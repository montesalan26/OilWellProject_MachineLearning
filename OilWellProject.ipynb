{
 "cells": [
  {
   "cell_type": "markdown",
   "metadata": {},
   "source": [
    "# Machine Learning Project"
   ]
  },
  {
   "cell_type": "markdown",
   "metadata": {},
   "source": [
    "In this machine learning project, I will take three different datasets of three different regions about an Oil mining company, with the datasets, i will create a predicting model using a Linear Regression and pick the best region with the highest total profit and the oil wells with the highest estimated values."
   ]
  },
  {
   "cell_type": "markdown",
   "metadata": {},
   "source": [
    "## Importing Modules"
   ]
  },
  {
   "cell_type": "code",
   "execution_count": 3,
   "metadata": {},
   "outputs": [],
   "source": [
    "import pandas as pd\n",
    "from matplotlib import pyplot as plt\n",
    "import numpy as np\n",
    "from sklearn.model_selection import train_test_split\n",
    "from sklearn.linear_model import LinearRegression\n",
    "from sklearn.metrics import mean_squared_error"
   ]
  },
  {
   "cell_type": "markdown",
   "metadata": {},
   "source": [
    "## Exploratory Data Analysis"
   ]
  },
  {
   "cell_type": "code",
   "execution_count": 4,
   "metadata": {},
   "outputs": [],
   "source": [
    "region_one = pd.read_csv(\"geo_data_0.csv\")\n",
    "region_two = pd.read_csv(\"geo_data_1.csv\")\n",
    "region_three = pd.read_csv(\"geo_data_2.csv\")"
   ]
  },
  {
   "cell_type": "markdown",
   "metadata": {},
   "source": [
    "### Region One"
   ]
  },
  {
   "cell_type": "code",
   "execution_count": 5,
   "metadata": {},
   "outputs": [
    {
     "data": {
      "text/html": [
       "<div>\n",
       "<style scoped>\n",
       "    .dataframe tbody tr th:only-of-type {\n",
       "        vertical-align: middle;\n",
       "    }\n",
       "\n",
       "    .dataframe tbody tr th {\n",
       "        vertical-align: top;\n",
       "    }\n",
       "\n",
       "    .dataframe thead th {\n",
       "        text-align: right;\n",
       "    }\n",
       "</style>\n",
       "<table border=\"1\" class=\"dataframe\">\n",
       "  <thead>\n",
       "    <tr style=\"text-align: right;\">\n",
       "      <th></th>\n",
       "      <th>id</th>\n",
       "      <th>f0</th>\n",
       "      <th>f1</th>\n",
       "      <th>f2</th>\n",
       "      <th>product</th>\n",
       "    </tr>\n",
       "  </thead>\n",
       "  <tbody>\n",
       "    <tr>\n",
       "      <th>0</th>\n",
       "      <td>txEyH</td>\n",
       "      <td>0.705745</td>\n",
       "      <td>-0.497823</td>\n",
       "      <td>1.221170</td>\n",
       "      <td>105.280062</td>\n",
       "    </tr>\n",
       "    <tr>\n",
       "      <th>1</th>\n",
       "      <td>2acmU</td>\n",
       "      <td>1.334711</td>\n",
       "      <td>-0.340164</td>\n",
       "      <td>4.365080</td>\n",
       "      <td>73.037750</td>\n",
       "    </tr>\n",
       "    <tr>\n",
       "      <th>2</th>\n",
       "      <td>409Wp</td>\n",
       "      <td>1.022732</td>\n",
       "      <td>0.151990</td>\n",
       "      <td>1.419926</td>\n",
       "      <td>85.265647</td>\n",
       "    </tr>\n",
       "    <tr>\n",
       "      <th>3</th>\n",
       "      <td>iJLyR</td>\n",
       "      <td>-0.032172</td>\n",
       "      <td>0.139033</td>\n",
       "      <td>2.978566</td>\n",
       "      <td>168.620776</td>\n",
       "    </tr>\n",
       "    <tr>\n",
       "      <th>4</th>\n",
       "      <td>Xdl7t</td>\n",
       "      <td>1.988431</td>\n",
       "      <td>0.155413</td>\n",
       "      <td>4.751769</td>\n",
       "      <td>154.036647</td>\n",
       "    </tr>\n",
       "    <tr>\n",
       "      <th>...</th>\n",
       "      <td>...</td>\n",
       "      <td>...</td>\n",
       "      <td>...</td>\n",
       "      <td>...</td>\n",
       "      <td>...</td>\n",
       "    </tr>\n",
       "    <tr>\n",
       "      <th>99995</th>\n",
       "      <td>DLsed</td>\n",
       "      <td>0.971957</td>\n",
       "      <td>0.370953</td>\n",
       "      <td>6.075346</td>\n",
       "      <td>110.744026</td>\n",
       "    </tr>\n",
       "    <tr>\n",
       "      <th>99996</th>\n",
       "      <td>QKivN</td>\n",
       "      <td>1.392429</td>\n",
       "      <td>-0.382606</td>\n",
       "      <td>1.273912</td>\n",
       "      <td>122.346843</td>\n",
       "    </tr>\n",
       "    <tr>\n",
       "      <th>99997</th>\n",
       "      <td>3rnvd</td>\n",
       "      <td>1.029585</td>\n",
       "      <td>0.018787</td>\n",
       "      <td>-1.348308</td>\n",
       "      <td>64.375443</td>\n",
       "    </tr>\n",
       "    <tr>\n",
       "      <th>99998</th>\n",
       "      <td>7kl59</td>\n",
       "      <td>0.998163</td>\n",
       "      <td>-0.528582</td>\n",
       "      <td>1.583869</td>\n",
       "      <td>74.040764</td>\n",
       "    </tr>\n",
       "    <tr>\n",
       "      <th>99999</th>\n",
       "      <td>1CWhH</td>\n",
       "      <td>1.764754</td>\n",
       "      <td>-0.266417</td>\n",
       "      <td>5.722849</td>\n",
       "      <td>149.633246</td>\n",
       "    </tr>\n",
       "  </tbody>\n",
       "</table>\n",
       "<p>100000 rows × 5 columns</p>\n",
       "</div>"
      ],
      "text/plain": [
       "          id        f0        f1        f2     product\n",
       "0      txEyH  0.705745 -0.497823  1.221170  105.280062\n",
       "1      2acmU  1.334711 -0.340164  4.365080   73.037750\n",
       "2      409Wp  1.022732  0.151990  1.419926   85.265647\n",
       "3      iJLyR -0.032172  0.139033  2.978566  168.620776\n",
       "4      Xdl7t  1.988431  0.155413  4.751769  154.036647\n",
       "...      ...       ...       ...       ...         ...\n",
       "99995  DLsed  0.971957  0.370953  6.075346  110.744026\n",
       "99996  QKivN  1.392429 -0.382606  1.273912  122.346843\n",
       "99997  3rnvd  1.029585  0.018787 -1.348308   64.375443\n",
       "99998  7kl59  0.998163 -0.528582  1.583869   74.040764\n",
       "99999  1CWhH  1.764754 -0.266417  5.722849  149.633246\n",
       "\n",
       "[100000 rows x 5 columns]"
      ]
     },
     "execution_count": 5,
     "metadata": {},
     "output_type": "execute_result"
    }
   ],
   "source": [
    "region_one"
   ]
  },
  {
   "cell_type": "code",
   "execution_count": 6,
   "metadata": {
    "scrolled": true
   },
   "outputs": [
    {
     "name": "stdout",
     "output_type": "stream",
     "text": [
      "<class 'pandas.core.frame.DataFrame'>\n",
      "RangeIndex: 100000 entries, 0 to 99999\n",
      "Data columns (total 5 columns):\n",
      " #   Column   Non-Null Count   Dtype  \n",
      "---  ------   --------------   -----  \n",
      " 0   id       100000 non-null  object \n",
      " 1   f0       100000 non-null  float64\n",
      " 2   f1       100000 non-null  float64\n",
      " 3   f2       100000 non-null  float64\n",
      " 4   product  100000 non-null  float64\n",
      "dtypes: float64(4), object(1)\n",
      "memory usage: 3.8+ MB\n"
     ]
    }
   ],
   "source": [
    "region_one.info()"
   ]
  },
  {
   "cell_type": "code",
   "execution_count": 7,
   "metadata": {},
   "outputs": [
    {
     "data": {
      "text/plain": [
       "id         0\n",
       "f0         0\n",
       "f1         0\n",
       "f2         0\n",
       "product    0\n",
       "dtype: int64"
      ]
     },
     "execution_count": 7,
     "metadata": {},
     "output_type": "execute_result"
    }
   ],
   "source": [
    "region_one.isnull().sum()"
   ]
  },
  {
   "cell_type": "code",
   "execution_count": 8,
   "metadata": {},
   "outputs": [
    {
     "data": {
      "text/plain": [
       "0"
      ]
     },
     "execution_count": 8,
     "metadata": {},
     "output_type": "execute_result"
    }
   ],
   "source": [
    "region_one.duplicated().sum()"
   ]
  },
  {
   "cell_type": "code",
   "execution_count": 9,
   "metadata": {},
   "outputs": [
    {
     "data": {
      "text/plain": [
       "(100000, 5)"
      ]
     },
     "execution_count": 9,
     "metadata": {},
     "output_type": "execute_result"
    }
   ],
   "source": [
    "region_one.shape"
   ]
  },
  {
   "cell_type": "code",
   "execution_count": 10,
   "metadata": {},
   "outputs": [
    {
     "data": {
      "image/png": "[encoded data removed]",
      "text/plain": [
       "<Figure size 640x480 with 1 Axes>"
      ]
     },
     "metadata": {},
     "output_type": "display_data"
    }
   ],
   "source": [
    "region_one['product'].plot(\n",
    "kind='hist',\n",
    "title=\"Region One Volumes of Reserves in Oil Well\",\n",
    "edgecolor=\"black\")\n",
    "plt.xlabel(\"Volume in Thousand of Barrels\")\n",
    "plt.ylabel(\"Count of Wells\")\n",
    "\n",
    "plt.show()"
   ]
  },
  {
   "cell_type": "markdown",
   "metadata": {},
   "source": [
    "Looking at the data for region one, after examining some columns in the data, it looks like the data can be considered a normal distribution because the histogram has a symmetrical bell shaped curve. Also, there are no missing values and there are no duplicated values in the dataset."
   ]
  },
  {
   "cell_type": "markdown",
   "metadata": {},
   "source": [
    "### Region Two"
   ]
  },
  {
   "cell_type": "code",
   "execution_count": 11,
   "metadata": {
    "scrolled": true
   },
   "outputs": [
    {
     "data": {
      "text/html": [
       "<div>\n",
       "<style scoped>\n",
       "    .dataframe tbody tr th:only-of-type {\n",
       "        vertical-align: middle;\n",
       "    }\n",
       "\n",
       "    .dataframe tbody tr th {\n",
       "        vertical-align: top;\n",
       "    }\n",
       "\n",
       "    .dataframe thead th {\n",
       "        text-align: right;\n",
       "    }\n",
       "</style>\n",
       "<table border=\"1\" class=\"dataframe\">\n",
       "  <thead>\n",
       "    <tr style=\"text-align: right;\">\n",
       "      <th></th>\n",
       "      <th>id</th>\n",
       "      <th>f0</th>\n",
       "      <th>f1</th>\n",
       "      <th>f2</th>\n",
       "      <th>product</th>\n",
       "    </tr>\n",
       "  </thead>\n",
       "  <tbody>\n",
       "    <tr>\n",
       "      <th>0</th>\n",
       "      <td>kBEdx</td>\n",
       "      <td>-15.001348</td>\n",
       "      <td>-8.276000</td>\n",
       "      <td>-0.005876</td>\n",
       "      <td>3.179103</td>\n",
       "    </tr>\n",
       "    <tr>\n",
       "      <th>1</th>\n",
       "      <td>62mP7</td>\n",
       "      <td>14.272088</td>\n",
       "      <td>-3.475083</td>\n",
       "      <td>0.999183</td>\n",
       "      <td>26.953261</td>\n",
       "    </tr>\n",
       "    <tr>\n",
       "      <th>2</th>\n",
       "      <td>vyE1P</td>\n",
       "      <td>6.263187</td>\n",
       "      <td>-5.948386</td>\n",
       "      <td>5.001160</td>\n",
       "      <td>134.766305</td>\n",
       "    </tr>\n",
       "    <tr>\n",
       "      <th>3</th>\n",
       "      <td>KcrkZ</td>\n",
       "      <td>-13.081196</td>\n",
       "      <td>-11.506057</td>\n",
       "      <td>4.999415</td>\n",
       "      <td>137.945408</td>\n",
       "    </tr>\n",
       "    <tr>\n",
       "      <th>4</th>\n",
       "      <td>AHL4O</td>\n",
       "      <td>12.702195</td>\n",
       "      <td>-8.147433</td>\n",
       "      <td>5.004363</td>\n",
       "      <td>134.766305</td>\n",
       "    </tr>\n",
       "    <tr>\n",
       "      <th>...</th>\n",
       "      <td>...</td>\n",
       "      <td>...</td>\n",
       "      <td>...</td>\n",
       "      <td>...</td>\n",
       "      <td>...</td>\n",
       "    </tr>\n",
       "    <tr>\n",
       "      <th>99995</th>\n",
       "      <td>QywKC</td>\n",
       "      <td>9.535637</td>\n",
       "      <td>-6.878139</td>\n",
       "      <td>1.998296</td>\n",
       "      <td>53.906522</td>\n",
       "    </tr>\n",
       "    <tr>\n",
       "      <th>99996</th>\n",
       "      <td>ptvty</td>\n",
       "      <td>-10.160631</td>\n",
       "      <td>-12.558096</td>\n",
       "      <td>5.005581</td>\n",
       "      <td>137.945408</td>\n",
       "    </tr>\n",
       "    <tr>\n",
       "      <th>99997</th>\n",
       "      <td>09gWa</td>\n",
       "      <td>-7.378891</td>\n",
       "      <td>-3.084104</td>\n",
       "      <td>4.998651</td>\n",
       "      <td>137.945408</td>\n",
       "    </tr>\n",
       "    <tr>\n",
       "      <th>99998</th>\n",
       "      <td>rqwUm</td>\n",
       "      <td>0.665714</td>\n",
       "      <td>-6.152593</td>\n",
       "      <td>1.000146</td>\n",
       "      <td>30.132364</td>\n",
       "    </tr>\n",
       "    <tr>\n",
       "      <th>99999</th>\n",
       "      <td>relB0</td>\n",
       "      <td>-3.426139</td>\n",
       "      <td>-7.794274</td>\n",
       "      <td>-0.003299</td>\n",
       "      <td>3.179103</td>\n",
       "    </tr>\n",
       "  </tbody>\n",
       "</table>\n",
       "<p>100000 rows × 5 columns</p>\n",
       "</div>"
      ],
      "text/plain": [
       "          id         f0         f1        f2     product\n",
       "0      kBEdx -15.001348  -8.276000 -0.005876    3.179103\n",
       "1      62mP7  14.272088  -3.475083  0.999183   26.953261\n",
       "2      vyE1P   6.263187  -5.948386  5.001160  134.766305\n",
       "3      KcrkZ -13.081196 -11.506057  4.999415  137.945408\n",
       "4      AHL4O  12.702195  -8.147433  5.004363  134.766305\n",
       "...      ...        ...        ...       ...         ...\n",
       "99995  QywKC   9.535637  -6.878139  1.998296   53.906522\n",
       "99996  ptvty -10.160631 -12.558096  5.005581  137.945408\n",
       "99997  09gWa  -7.378891  -3.084104  4.998651  137.945408\n",
       "99998  rqwUm   0.665714  -6.152593  1.000146   30.132364\n",
       "99999  relB0  -3.426139  -7.794274 -0.003299    3.179103\n",
       "\n",
       "[100000 rows x 5 columns]"
      ]
     },
     "execution_count": 11,
     "metadata": {},
     "output_type": "execute_result"
    }
   ],
   "source": [
    "region_two"
   ]
  },
  {
   "cell_type": "code",
   "execution_count": 12,
   "metadata": {},
   "outputs": [
    {
     "name": "stdout",
     "output_type": "stream",
     "text": [
      "<class 'pandas.core.frame.DataFrame'>\n",
      "RangeIndex: 100000 entries, 0 to 99999\n",
      "Data columns (total 5 columns):\n",
      " #   Column   Non-Null Count   Dtype  \n",
      "---  ------   --------------   -----  \n",
      " 0   id       100000 non-null  object \n",
      " 1   f0       100000 non-null  float64\n",
      " 2   f1       100000 non-null  float64\n",
      " 3   f2       100000 non-null  float64\n",
      " 4   product  100000 non-null  float64\n",
      "dtypes: float64(4), object(1)\n",
      "memory usage: 3.8+ MB\n"
     ]
    }
   ],
   "source": [
    "region_two.info()"
   ]
  },
  {
   "cell_type": "code",
   "execution_count": 13,
   "metadata": {
    "scrolled": true
   },
   "outputs": [
    {
     "data": {
      "text/plain": [
       "id         0\n",
       "f0         0\n",
       "f1         0\n",
       "f2         0\n",
       "product    0\n",
       "dtype: int64"
      ]
     },
     "execution_count": 13,
     "metadata": {},
     "output_type": "execute_result"
    }
   ],
   "source": [
    "region_two.isnull().sum()"
   ]
  },
  {
   "cell_type": "code",
   "execution_count": 14,
   "metadata": {
    "scrolled": true
   },
   "outputs": [
    {
     "data": {
      "text/plain": [
       "0"
      ]
     },
     "execution_count": 14,
     "metadata": {},
     "output_type": "execute_result"
    }
   ],
   "source": [
    "region_two.duplicated().sum()"
   ]
  },
  {
   "cell_type": "code",
   "execution_count": 15,
   "metadata": {
    "scrolled": true
   },
   "outputs": [
    {
     "data": {
      "image/png": "[encoded data removed]",
      "text/plain": [
       "<Figure size 640x480 with 1 Axes>"
      ]
     },
     "metadata": {},
     "output_type": "display_data"
    }
   ],
   "source": [
    "region_two['product'].plot(\n",
    "kind='hist',\n",
    "title=\"Region Two Volume Reserves in Oil Wells\",\n",
    "edgecolor='black')\n",
    "plt.xlabel(\"Volume in Thousand of Barrels\")\n",
    "plt.ylabel(\"Count of Wells\")\n",
    "plt.show()"
   ]
  },
  {
   "cell_type": "markdown",
   "metadata": {},
   "source": [
    "Looking at the product column in the region two dataset, you can see that the histrogram has two distinct peaks, which we consider a bimodal distribution. In this dataset, there are no missing values and no duplicate values."
   ]
  },
  {
   "cell_type": "markdown",
   "metadata": {},
   "source": [
    "### Region Three"
   ]
  },
  {
   "cell_type": "code",
   "execution_count": 16,
   "metadata": {},
   "outputs": [
    {
     "data": {
      "text/html": [
       "<div>\n",
       "<style scoped>\n",
       "    .dataframe tbody tr th:only-of-type {\n",
       "        vertical-align: middle;\n",
       "    }\n",
       "\n",
       "    .dataframe tbody tr th {\n",
       "        vertical-align: top;\n",
       "    }\n",
       "\n",
       "    .dataframe thead th {\n",
       "        text-align: right;\n",
       "    }\n",
       "</style>\n",
       "<table border=\"1\" class=\"dataframe\">\n",
       "  <thead>\n",
       "    <tr style=\"text-align: right;\">\n",
       "      <th></th>\n",
       "      <th>id</th>\n",
       "      <th>f0</th>\n",
       "      <th>f1</th>\n",
       "      <th>f2</th>\n",
       "      <th>product</th>\n",
       "    </tr>\n",
       "  </thead>\n",
       "  <tbody>\n",
       "    <tr>\n",
       "      <th>0</th>\n",
       "      <td>fwXo0</td>\n",
       "      <td>-1.146987</td>\n",
       "      <td>0.963328</td>\n",
       "      <td>-0.828965</td>\n",
       "      <td>27.758673</td>\n",
       "    </tr>\n",
       "    <tr>\n",
       "      <th>1</th>\n",
       "      <td>WJtFt</td>\n",
       "      <td>0.262778</td>\n",
       "      <td>0.269839</td>\n",
       "      <td>-2.530187</td>\n",
       "      <td>56.069697</td>\n",
       "    </tr>\n",
       "    <tr>\n",
       "      <th>2</th>\n",
       "      <td>ovLUW</td>\n",
       "      <td>0.194587</td>\n",
       "      <td>0.289035</td>\n",
       "      <td>-5.586433</td>\n",
       "      <td>62.871910</td>\n",
       "    </tr>\n",
       "    <tr>\n",
       "      <th>3</th>\n",
       "      <td>q6cA6</td>\n",
       "      <td>2.236060</td>\n",
       "      <td>-0.553760</td>\n",
       "      <td>0.930038</td>\n",
       "      <td>114.572842</td>\n",
       "    </tr>\n",
       "    <tr>\n",
       "      <th>4</th>\n",
       "      <td>WPMUX</td>\n",
       "      <td>-0.515993</td>\n",
       "      <td>1.716266</td>\n",
       "      <td>5.899011</td>\n",
       "      <td>149.600746</td>\n",
       "    </tr>\n",
       "    <tr>\n",
       "      <th>...</th>\n",
       "      <td>...</td>\n",
       "      <td>...</td>\n",
       "      <td>...</td>\n",
       "      <td>...</td>\n",
       "      <td>...</td>\n",
       "    </tr>\n",
       "    <tr>\n",
       "      <th>99995</th>\n",
       "      <td>4GxBu</td>\n",
       "      <td>-1.777037</td>\n",
       "      <td>1.125220</td>\n",
       "      <td>6.263374</td>\n",
       "      <td>172.327046</td>\n",
       "    </tr>\n",
       "    <tr>\n",
       "      <th>99996</th>\n",
       "      <td>YKFjq</td>\n",
       "      <td>-1.261523</td>\n",
       "      <td>-0.894828</td>\n",
       "      <td>2.524545</td>\n",
       "      <td>138.748846</td>\n",
       "    </tr>\n",
       "    <tr>\n",
       "      <th>99997</th>\n",
       "      <td>tKPY3</td>\n",
       "      <td>-1.199934</td>\n",
       "      <td>-2.957637</td>\n",
       "      <td>5.219411</td>\n",
       "      <td>157.080080</td>\n",
       "    </tr>\n",
       "    <tr>\n",
       "      <th>99998</th>\n",
       "      <td>nmxp2</td>\n",
       "      <td>-2.419896</td>\n",
       "      <td>2.417221</td>\n",
       "      <td>-5.548444</td>\n",
       "      <td>51.795253</td>\n",
       "    </tr>\n",
       "    <tr>\n",
       "      <th>99999</th>\n",
       "      <td>V9kWn</td>\n",
       "      <td>-2.551421</td>\n",
       "      <td>-2.025625</td>\n",
       "      <td>6.090891</td>\n",
       "      <td>102.775767</td>\n",
       "    </tr>\n",
       "  </tbody>\n",
       "</table>\n",
       "<p>100000 rows × 5 columns</p>\n",
       "</div>"
      ],
      "text/plain": [
       "          id        f0        f1        f2     product\n",
       "0      fwXo0 -1.146987  0.963328 -0.828965   27.758673\n",
       "1      WJtFt  0.262778  0.269839 -2.530187   56.069697\n",
       "2      ovLUW  0.194587  0.289035 -5.586433   62.871910\n",
       "3      q6cA6  2.236060 -0.553760  0.930038  114.572842\n",
       "4      WPMUX -0.515993  1.716266  5.899011  149.600746\n",
       "...      ...       ...       ...       ...         ...\n",
       "99995  4GxBu -1.777037  1.125220  6.263374  172.327046\n",
       "99996  YKFjq -1.261523 -0.894828  2.524545  138.748846\n",
       "99997  tKPY3 -1.199934 -2.957637  5.219411  157.080080\n",
       "99998  nmxp2 -2.419896  2.417221 -5.548444   51.795253\n",
       "99999  V9kWn -2.551421 -2.025625  6.090891  102.775767\n",
       "\n",
       "[100000 rows x 5 columns]"
      ]
     },
     "execution_count": 16,
     "metadata": {},
     "output_type": "execute_result"
    }
   ],
   "source": [
    "region_three"
   ]
  },
  {
   "cell_type": "code",
   "execution_count": 17,
   "metadata": {},
   "outputs": [
    {
     "name": "stdout",
     "output_type": "stream",
     "text": [
      "<class 'pandas.core.frame.DataFrame'>\n",
      "RangeIndex: 100000 entries, 0 to 99999\n",
      "Data columns (total 5 columns):\n",
      " #   Column   Non-Null Count   Dtype  \n",
      "---  ------   --------------   -----  \n",
      " 0   id       100000 non-null  object \n",
      " 1   f0       100000 non-null  float64\n",
      " 2   f1       100000 non-null  float64\n",
      " 3   f2       100000 non-null  float64\n",
      " 4   product  100000 non-null  float64\n",
      "dtypes: float64(4), object(1)\n",
      "memory usage: 3.8+ MB\n"
     ]
    }
   ],
   "source": [
    "region_three.info()"
   ]
  },
  {
   "cell_type": "code",
   "execution_count": 18,
   "metadata": {},
   "outputs": [
    {
     "data": {
      "text/plain": [
       "id         0\n",
       "f0         0\n",
       "f1         0\n",
       "f2         0\n",
       "product    0\n",
       "dtype: int64"
      ]
     },
     "execution_count": 18,
     "metadata": {},
     "output_type": "execute_result"
    }
   ],
   "source": [
    "region_three.isnull().sum()"
   ]
  },
  {
   "cell_type": "code",
   "execution_count": 19,
   "metadata": {},
   "outputs": [
    {
     "data": {
      "text/plain": [
       "0"
      ]
     },
     "execution_count": 19,
     "metadata": {},
     "output_type": "execute_result"
    }
   ],
   "source": [
    "region_three.duplicated().sum()"
   ]
  },
  {
   "cell_type": "code",
   "execution_count": 20,
   "metadata": {},
   "outputs": [
    {
     "data": {
      "image/png": "[encoded data removed]",
      "text/plain": [
       "<Figure size 640x480 with 1 Axes>"
      ]
     },
     "metadata": {},
     "output_type": "display_data"
    }
   ],
   "source": [
    "region_three['product'].plot(\n",
    "kind='hist',\n",
    "title= \"Region Three Volumes of reserves in oil wells\",\n",
    "edgecolor='black')\n",
    "plt.xlabel(\"Volume in Thousand of Barrels\")\n",
    "plt.ylabel(\"Count of Wells\")\n",
    "plt.show()"
   ]
  },
  {
   "cell_type": "markdown",
   "metadata": {},
   "source": [
    "Just like in region one, region three also has a normal distribution because it is symmetrical bell shaped curve. In this dataset, there are no missing values and no duplicate values."
   ]
  },
  {
   "cell_type": "markdown",
   "metadata": {},
   "source": [
    "## Splitting the data into Training and Test for each Region into 75:25 ratio"
   ]
  },
  {
   "cell_type": "markdown",
   "metadata": {},
   "source": [
    "### Region One"
   ]
  },
  {
   "cell_type": "code",
   "execution_count": 21,
   "metadata": {},
   "outputs": [],
   "source": [
    "random_state = 10"
   ]
  },
  {
   "cell_type": "code",
   "execution_count": 22,
   "metadata": {},
   "outputs": [],
   "source": [
    "features_one = region_one.drop(['product', 'id'], axis=1)\n",
    "target_one = region_one['product']\n",
    "\n",
    "X_train_one, X_valid_one, y_train_one, y_valid_one = train_test_split(features_one, target_one, test_size=0.25, random_state=random_state)"
   ]
  },
  {
   "cell_type": "markdown",
   "metadata": {},
   "source": [
    "### Region Two"
   ]
  },
  {
   "cell_type": "code",
   "execution_count": 23,
   "metadata": {},
   "outputs": [],
   "source": [
    "features_two = region_two.drop([\"product\", 'id'], axis=1)\n",
    "target_two = region_two['product']\n",
    "\n",
    "X_train_two, X_valid_two, y_train_two, y_valid_two = train_test_split(features_two, target_two, test_size=0.25, random_state=random_state)"
   ]
  },
  {
   "cell_type": "markdown",
   "metadata": {},
   "source": [
    "### Region Three"
   ]
  },
  {
   "cell_type": "code",
   "execution_count": 24,
   "metadata": {},
   "outputs": [],
   "source": [
    "features_three = region_three.drop(['product', 'id'], axis=1)\n",
    "target_three = region_three['product']\n",
    "\n",
    "X_train_three, X_valid_three, y_train_three, y_valid_three = train_test_split(features_three, target_three, test_size=0.25, random_state=random_state)"
   ]
  },
  {
   "cell_type": "markdown",
   "metadata": {},
   "source": [
    "## Linear Regression Models"
   ]
  },
  {
   "cell_type": "markdown",
   "metadata": {},
   "source": [
    "### Region One"
   ]
  },
  {
   "cell_type": "code",
   "execution_count": 25,
   "metadata": {},
   "outputs": [
    {
     "name": "stdout",
     "output_type": "stream",
     "text": [
      "RSME for region one: 37.85\n"
     ]
    }
   ],
   "source": [
    "model_one = LinearRegression()\n",
    "model_one.fit(X_train_one, y_train_one)\n",
    "prediction_one = model_one.predict(X_valid_one)\n",
    "mse_one = mean_squared_error(y_valid_one, prediction_one)\n",
    "rsme_one = np.sqrt(mse_one)\n",
    "print(f\"RSME for region one: {rsme_one:.2f}\")"
   ]
  },
  {
   "cell_type": "code",
   "execution_count": 26,
   "metadata": {},
   "outputs": [
    {
     "data": {
      "text/plain": [
       "count    100000.000000\n",
       "mean         92.500000\n",
       "std          44.288691\n",
       "min           0.000000\n",
       "25%          56.497507\n",
       "50%          91.849972\n",
       "75%         128.564089\n",
       "max         185.364347\n",
       "Name: product, dtype: float64"
      ]
     },
     "execution_count": 26,
     "metadata": {},
     "output_type": "execute_result"
    }
   ],
   "source": [
    "region_one['product'].describe()"
   ]
  },
  {
   "cell_type": "markdown",
   "metadata": {},
   "source": [
    "### Region Two"
   ]
  },
  {
   "cell_type": "code",
   "execution_count": 27,
   "metadata": {
    "scrolled": true
   },
   "outputs": [
    {
     "name": "stdout",
     "output_type": "stream",
     "text": [
      "RSME For region two: 0.89\n"
     ]
    }
   ],
   "source": [
    "model_two = LinearRegression()\n",
    "model_two.fit(X_train_two, y_train_two)\n",
    "prediction_two = model_two.predict(X_valid_two)\n",
    "mse_two = mean_squared_error(y_valid_two, prediction_two)\n",
    "rsme_two = np.sqrt(mse_two)\n",
    "print(f\"RSME For region two: {rsme_two:.2f}\")"
   ]
  },
  {
   "cell_type": "code",
   "execution_count": 28,
   "metadata": {},
   "outputs": [
    {
     "data": {
      "text/plain": [
       "count    100000.000000\n",
       "mean         68.825000\n",
       "std          45.944423\n",
       "min           0.000000\n",
       "25%          26.953261\n",
       "50%          57.085625\n",
       "75%         107.813044\n",
       "max         137.945408\n",
       "Name: product, dtype: float64"
      ]
     },
     "execution_count": 28,
     "metadata": {},
     "output_type": "execute_result"
    }
   ],
   "source": [
    "region_two['product'].describe()"
   ]
  },
  {
   "cell_type": "markdown",
   "metadata": {},
   "source": [
    "### Region Three"
   ]
  },
  {
   "cell_type": "code",
   "execution_count": 29,
   "metadata": {
    "scrolled": true
   },
   "outputs": [
    {
     "name": "stdout",
     "output_type": "stream",
     "text": [
      "RSME for region three: 40.05\n"
     ]
    }
   ],
   "source": [
    "model_three = LinearRegression()\n",
    "model_three.fit(X_train_three, y_train_three)\n",
    "prediction_three = model_three.predict(X_valid_three)\n",
    "mse_three = mean_squared_error(y_valid_three, prediction_three)\n",
    "rsme_three = np.sqrt(mse_three)\n",
    "print(f\"RSME for region three: {rsme_three:.2f}\")"
   ]
  },
  {
   "cell_type": "code",
   "execution_count": 30,
   "metadata": {},
   "outputs": [
    {
     "data": {
      "text/plain": [
       "count    100000.000000\n",
       "mean         95.000000\n",
       "std          44.749921\n",
       "min           0.000000\n",
       "25%          59.450441\n",
       "50%          94.925613\n",
       "75%         130.595027\n",
       "max         190.029838\n",
       "Name: product, dtype: float64"
      ]
     },
     "execution_count": 30,
     "metadata": {},
     "output_type": "execute_result"
    }
   ],
   "source": [
    "region_three['product'].describe()"
   ]
  },
  {
   "cell_type": "code",
   "execution_count": 31,
   "metadata": {},
   "outputs": [
    {
     "data": {
      "image/png": "[encoded data removed]",
      "text/plain": [
       "<Figure size 640x480 with 1 Axes>"
      ]
     },
     "metadata": {},
     "output_type": "display_data"
    }
   ],
   "source": [
    "plt.hist(region_one['product'], bins=50, alpha=0.5, label='Region 1')\n",
    "plt.hist(region_two['product'], bins=50, alpha=0.5, label='Region 2')\n",
    "plt.hist(region_three['product'], bins=50, alpha=0.5, label='Region 3')\n",
    "plt.legend(loc='upper right')\n",
    "plt.xlabel('Product - Volume of Reserves')\n",
    "plt.ylabel('Frequency')\n",
    "plt.title('Distribution of Oil Reserves in Each Region')\n",
    "plt.show()"
   ]
  },
  {
   "cell_type": "code",
   "execution_count": 32,
   "metadata": {},
   "outputs": [
    {
     "data": {
      "image/png": "[encoded data removed]",
      "text/plain": [
       "<Figure size 640x480 with 1 Axes>"
      ]
     },
     "metadata": {},
     "output_type": "display_data"
    }
   ],
   "source": [
    "residuals_one = y_valid_one - prediction_one\n",
    "residuals_two = y_valid_two - prediction_two\n",
    "residuals_three = y_valid_three - prediction_three\n",
    "\n",
    "plt.hist(residuals_one, bins=50, alpha=0.5, label='Region 1 Residuals')\n",
    "plt.hist(residuals_two, bins=50, alpha=0.5, label='Region 2 Residuals')\n",
    "plt.hist(residuals_three, bins=50, alpha=0.5, label='Region 3 Residuals')\n",
    "plt.legend(loc='upper right')\n",
    "plt.xlabel('Residuals')\n",
    "plt.ylabel('Frequency')\n",
    "plt.title('Distribution of Residuals in Each Region')\n",
    "plt.show()"
   ]
  },
  {
   "cell_type": "markdown",
   "metadata": {},
   "source": [
    "By looking at the residuals plot, after creating my LinearRegression models, you can see that region two has very little difference between the actual values of a target variable and the predicted values. While region one and region three are more dispersed, meaning there is more errors between the actual data and the predicted data, that's why the RSME for region 1 and region 3 are high, and region two is low."
   ]
  },
  {
   "cell_type": "markdown",
   "metadata": {},
   "source": [
    "## Profit Calculation"
   ]
  },
  {
   "cell_type": "markdown",
   "metadata": {},
   "source": [
    "According to the information we have of the oil wells, the budget for 200 oil wells is 100,000,000 for 200 oil wells, so we specify a variable for budget and number of wells. One barrel of raw material brings in a revenue of 4.5 USD. If you take the revenue of 4.5 in a thousand barrels, since the product column is measured in the thousands, you multiply the revenue per unit, multiplied by a 1000 to give you the revenue per thousand barrels.\n",
    "\n",
    "To see what the break even volume, we must divide the cost per well divided by the revenue per thousand barrers to output the break even volume. In this case, the break even volume is 111.11 thousand barrels.\n",
    "\n",
    "Next, we specified the average volume per region, which turns out to be Region 1: 92.50 thousand barrels, Region 2: 68.83 thousand barrels, and Region 3: 95.00 thousand barrels.\n",
    "\n",
    "After seeing the average volume per region, I created a function that compares the volumes and outputs if the regions are profitable. Turns out, that none of the regions are profitable according to the datasets."
   ]
  },
  {
   "cell_type": "code",
   "execution_count": 33,
   "metadata": {},
   "outputs": [],
   "source": [
    "budget = 100_000_000 \n",
    "num_wells = 200\n",
    "revenue_per_unit = 4.5  "
   ]
  },
  {
   "cell_type": "code",
   "execution_count": 34,
   "metadata": {},
   "outputs": [
    {
     "name": "stdout",
     "output_type": "stream",
     "text": [
      "Break-even volume per well: 111.11 thousand barrels\n"
     ]
    }
   ],
   "source": [
    "\n",
    "cost_per_well = budget / num_wells\n",
    "\n",
    "revenue_per_thousand_barrels = revenue_per_unit * 1000\n",
    "\n",
    "break_even_volume = cost_per_well / revenue_per_thousand_barrels\n",
    "\n",
    "print(f\"Break-even volume per well: {break_even_volume:.2f} thousand barrels\")"
   ]
  },
  {
   "cell_type": "code",
   "execution_count": 35,
   "metadata": {},
   "outputs": [
    {
     "name": "stdout",
     "output_type": "stream",
     "text": [
      "Avg volume Region 1: 92.50 thousand barrels\n",
      "Avg volume Region 2: 68.83 thousand barrels\n",
      "Avg volume Region 3: 95.00 thousand barrels\n"
     ]
    }
   ],
   "source": [
    "avg_volume_region_1 = region_one['product'].mean()\n",
    "avg_volume_region_2 = region_two['product'].mean()\n",
    "avg_volume_region_3 = region_three['product'].mean()\n",
    "\n",
    "print(f\"Avg volume Region 1: {avg_volume_region_1:.2f} thousand barrels\")\n",
    "print(f\"Avg volume Region 2: {avg_volume_region_2:.2f} thousand barrels\")\n",
    "print(f\"Avg volume Region 3: {avg_volume_region_3:.2f} thousand barrels\")"
   ]
  },
  {
   "cell_type": "code",
   "execution_count": 36,
   "metadata": {},
   "outputs": [
    {
     "name": "stdout",
     "output_type": "stream",
     "text": [
      "Region 1: Not Profitable\n",
      "Region 2: Not Profitable\n",
      "Region 3: Not Profitable\n"
     ]
    }
   ],
   "source": [
    "def compare_volumes(region_name, avg_volume, break_even_volume):\n",
    "    if avg_volume >= break_even_volume:\n",
    "        return f\"{region_name}: Profitable\"\n",
    "    else:\n",
    "        return f\"{region_name}: Not Profitable\"\n",
    "\n",
    "print(compare_volumes(\"Region 1\", avg_volume_region_1, break_even_volume))\n",
    "print(compare_volumes(\"Region 2\", avg_volume_region_2, break_even_volume))\n",
    "print(compare_volumes(\"Region 3\", avg_volume_region_3, break_even_volume))"
   ]
  },
  {
   "cell_type": "markdown",
   "metadata": {},
   "source": [
    "## Calculating Profit from Selected oil wells and Model Predictions:"
   ]
  },
  {
   "cell_type": "code",
   "execution_count": 37,
   "metadata": {},
   "outputs": [],
   "source": [
    "def profit(target, predictions, count):\n",
    "    target = target.values\n",
    "    top_oil_wells = np.argsort(predictions)[::-1][:count]\n",
    "    total_reserves = np.sum(target[top_oil_wells])\n",
    "    total_revenue = total_reserves * 4500\n",
    "    total_profit = total_revenue - budget\n",
    "    return total_profit\n",
    "\n",
    "profit_one = profit(y_valid_one, prediction_one, 200)\n",
    "profit_two = profit(y_valid_two, prediction_two, 200)\n",
    "profit_three = profit(y_valid_three, prediction_three, 200)"
   ]
  },
  {
   "cell_type": "code",
   "execution_count": 38,
   "metadata": {},
   "outputs": [
    {
     "name": "stdout",
     "output_type": "stream",
     "text": [
      "The profit from selected oil wells and model predictions from:\n",
      "Region 1: 33878788.72\n",
      "Region 2: 24150866.97\n",
      "Region 3: 24318900.21.\n",
      "\n",
      "The Region with the highest profit is Region 1 with 33878788.72\n"
     ]
    }
   ],
   "source": [
    "print(f\"\"\"The profit from selected oil wells and model predictions from:\n",
    "Region 1: {profit_one:.2f}\n",
    "Region 2: {profit_two:.2f}\n",
    "Region 3: {profit_three:.2f}.\"\"\")\n",
    "print()\n",
    "print(f\"The Region with the highest profit is Region 1 with {profit_one:.2f}\")"
   ]
  },
  {
   "cell_type": "markdown",
   "metadata": {},
   "source": [
    "## Calculating Risk and Profit Using Bootstrap"
   ]
  },
  {
   "cell_type": "code",
   "execution_count": 109,
   "metadata": {},
   "outputs": [],
   "source": [
    "state = np.random.RandomState(10)\n",
    "\n",
    "\n",
    "def bootstrap(validate_features, validate_target, model, n_bootstraps, n_wells):\n",
    "    profits = []\n",
    "    for _ in range(n_bootstraps):\n",
    "        subsample_indices = state.choice(validate_features.index, size=500, replace=True)\n",
    "        subsample_features = validate_features.loc[subsample_indices]\n",
    "        subsample_target = validate_target.loc[subsample_indices]\n",
    "        subsample_predictions = model.predict(subsample_features)\n",
    "        profit_value = profit(subsample_target, subsample_predictions, n_wells)\n",
    "        profits.append(profit_value)\n",
    "\n",
    "    profits = pd.Series(profits)\n",
    "    lower = profits.quantile(0.025)\n",
    "    upper = profits.quantile(0.975) \n",
    "    average_profit = profits.mean()\n",
    "    risk_loss = (profits < 0).mean() * 100  \n",
    "    \n",
    "    print(f\"\"\"\n",
    "    Lower Quantile: {lower:.2f}\n",
    "    Upper Quantile: {upper:.2f}\n",
    "    Average Profit: {average_profit:.2f}\n",
    "    Risk Loss Percentage: {risk_loss:.2f}%\"\"\")\n"
   ]
  },
  {
   "cell_type": "code",
   "execution_count": 118,
   "metadata": {
    "scrolled": true
   },
   "outputs": [
    {
     "name": "stdout",
     "output_type": "stream",
     "text": [
      "Region 1\n",
      "\n",
      "    Lower Quantile: -1039109.52\n",
      "    Upper Quantile: 8947662.85\n",
      "    Average Profit: 3761771.75\n",
      "    Risk Loss Percentage: 6.80%\n"
     ]
    }
   ],
   "source": [
    "print(\"Region 1\")\n",
    "bootstrap(X_valid_one, y_valid_one, model_one, 1000, 200)"
   ]
  },
  {
   "cell_type": "code",
   "execution_count": 117,
   "metadata": {},
   "outputs": [
    {
     "name": "stdout",
     "output_type": "stream",
     "text": [
      "Region 2\n",
      "\n",
      "    Lower Quantile: 492522.88\n",
      "    Upper Quantile: 8687459.75\n",
      "    Average Profit: 4714485.83\n",
      "    Risk Loss Percentage: 1.50%\n"
     ]
    }
   ],
   "source": [
    "print(\"Region 2\")\n",
    "bootstrap(X_valid_two, y_valid_two, model_two, 1000, 200)"
   ]
  },
  {
   "cell_type": "code",
   "execution_count": 119,
   "metadata": {},
   "outputs": [
    {
     "name": "stdout",
     "output_type": "stream",
     "text": [
      "Region 3\n",
      "\n",
      "    Lower Quantile: -1559348.26\n",
      "    Upper Quantile: 9047834.51\n",
      "    Average Profit: 3593006.01\n",
      "    Risk Loss Percentage: 9.60%\n"
     ]
    }
   ],
   "source": [
    "print(\"Region 3\")\n",
    "bootstrap(X_valid_three, y_valid_three, model_three, 1000, 200)"
   ]
  },
  {
   "cell_type": "markdown",
   "metadata": {},
   "source": [
    "## Conclusion"
   ]
  },
  {
   "cell_type": "markdown",
   "metadata": {},
   "source": [
    "According to the risk loss of all three regions, the recommended for developement of oil wells in Region 2, because after conducting the profit and risk loss percentage, region 2 is the region with the highest average profit, and the least percentage of loss."
   ]
  }
 ],
 "metadata": {
  "ExecuteTimeLog": [
   {
    "duration": 493,
    "start_time": "2024-06-05T20:24:07.353Z"
   },
   {
    "duration": 4,
    "start_time": "2024-06-05T20:27:15.371Z"
   },
   {
    "duration": 1085,
    "start_time": "2024-06-05T20:28:36.041Z"
   },
   {
    "duration": 130,
    "start_time": "2024-06-05T20:28:45.613Z"
   },
   {
    "duration": 128,
    "start_time": "2024-06-05T20:29:38.013Z"
   },
   {
    "duration": 134,
    "start_time": "2024-06-05T20:30:14.215Z"
   },
   {
    "duration": 125,
    "start_time": "2024-06-05T20:32:44.677Z"
   },
   {
    "duration": 22,
    "start_time": "2024-06-05T20:33:54.189Z"
   },
   {
    "duration": 138,
    "start_time": "2024-06-05T20:34:16.466Z"
   },
   {
    "duration": 312,
    "start_time": "2024-06-05T20:34:43.728Z"
   },
   {
    "duration": 401,
    "start_time": "2024-06-05T20:35:03.941Z"
   },
   {
    "duration": 433,
    "start_time": "2024-06-05T20:35:08.001Z"
   },
   {
    "duration": 455,
    "start_time": "2024-06-05T20:35:18.024Z"
   },
   {
    "duration": 24,
    "start_time": "2024-06-05T20:36:00.967Z"
   },
   {
    "duration": 20,
    "start_time": "2024-06-05T20:36:04.689Z"
   },
   {
    "duration": 13,
    "start_time": "2024-06-05T20:36:40.616Z"
   },
   {
    "duration": 77,
    "start_time": "2024-06-05T20:36:51.855Z"
   },
   {
    "duration": 58,
    "start_time": "2024-06-05T20:36:55.038Z"
   },
   {
    "duration": 6915,
    "start_time": "2024-06-05T20:37:39.272Z"
   },
   {
    "duration": 12,
    "start_time": "2024-06-05T20:37:58.443Z"
   },
   {
    "duration": 1007,
    "start_time": "2024-06-05T20:38:13.236Z"
   },
   {
    "duration": 402,
    "start_time": "2024-06-05T20:38:23.883Z"
   },
   {
    "duration": 241,
    "start_time": "2024-06-05T20:39:00.668Z"
   },
   {
    "duration": 259,
    "start_time": "2024-06-05T20:40:38.987Z"
   },
   {
    "duration": 290,
    "start_time": "2024-06-05T20:40:50.500Z"
   },
   {
    "duration": 244,
    "start_time": "2024-06-05T20:40:55.600Z"
   },
   {
    "duration": 304,
    "start_time": "2024-06-05T20:41:03.909Z"
   },
   {
    "duration": 6,
    "start_time": "2024-06-05T20:41:08.432Z"
   },
   {
    "duration": 276,
    "start_time": "2024-06-05T20:41:11.669Z"
   },
   {
    "duration": 325,
    "start_time": "2024-06-05T20:41:19.337Z"
   },
   {
    "duration": 236,
    "start_time": "2024-06-05T20:41:34.564Z"
   },
   {
    "duration": 18,
    "start_time": "2024-06-05T20:42:00.006Z"
   },
   {
    "duration": 48,
    "start_time": "2024-06-05T20:42:09.479Z"
   },
   {
    "duration": 41,
    "start_time": "2024-06-05T20:42:20.953Z"
   },
   {
    "duration": 272,
    "start_time": "2024-06-05T20:42:58.171Z"
   },
   {
    "duration": 297,
    "start_time": "2024-06-05T20:43:33.729Z"
   },
   {
    "duration": 238,
    "start_time": "2024-06-05T20:43:52.696Z"
   },
   {
    "duration": 260,
    "start_time": "2024-06-05T20:43:58.127Z"
   },
   {
    "duration": 247,
    "start_time": "2024-06-05T20:44:04.076Z"
   },
   {
    "duration": 341,
    "start_time": "2024-06-05T20:44:17.444Z"
   },
   {
    "duration": 245,
    "start_time": "2024-06-05T20:44:24.721Z"
   },
   {
    "duration": 235,
    "start_time": "2024-06-05T21:14:18.369Z"
   },
   {
    "duration": 246,
    "start_time": "2024-06-05T21:15:04.751Z"
   },
   {
    "duration": 240,
    "start_time": "2024-06-05T21:16:18.563Z"
   },
   {
    "duration": 245,
    "start_time": "2024-06-05T21:16:39.217Z"
   },
   {
    "duration": 19,
    "start_time": "2024-06-05T21:16:56.599Z"
   },
   {
    "duration": 18,
    "start_time": "2024-06-05T21:18:07.002Z"
   },
   {
    "duration": 5,
    "start_time": "2024-06-05T21:18:22.804Z"
   },
   {
    "duration": 21,
    "start_time": "2024-06-05T21:18:36.497Z"
   },
   {
    "duration": 16,
    "start_time": "2024-06-05T21:18:50.670Z"
   },
   {
    "duration": 19,
    "start_time": "2024-06-05T21:19:03.080Z"
   },
   {
    "duration": 70,
    "start_time": "2024-06-05T21:19:05.646Z"
   },
   {
    "duration": 66,
    "start_time": "2024-06-05T21:19:08.898Z"
   },
   {
    "duration": 263,
    "start_time": "2024-06-05T21:19:31.460Z"
   },
   {
    "duration": 240,
    "start_time": "2024-06-05T21:19:49.229Z"
   },
   {
    "duration": 361,
    "start_time": "2024-06-05T21:20:01.948Z"
   },
   {
    "duration": 253,
    "start_time": "2024-06-05T21:20:10.690Z"
   },
   {
    "duration": 268,
    "start_time": "2024-06-05T21:20:22.417Z"
   },
   {
    "duration": 363,
    "start_time": "2024-06-05T21:20:28.807Z"
   },
   {
    "duration": 241,
    "start_time": "2024-06-05T21:20:38.944Z"
   },
   {
    "duration": 250,
    "start_time": "2024-06-05T21:21:13.710Z"
   },
   {
    "duration": 296,
    "start_time": "2024-06-05T21:21:28.321Z"
   },
   {
    "duration": 246,
    "start_time": "2024-06-05T21:21:35.196Z"
   },
   {
    "duration": 20,
    "start_time": "2024-06-05T21:21:51.972Z"
   },
   {
    "duration": 24,
    "start_time": "2024-06-05T21:21:59.928Z"
   },
   {
    "duration": 14,
    "start_time": "2024-06-05T21:22:13.763Z"
   },
   {
    "duration": 64,
    "start_time": "2024-06-05T21:22:22.446Z"
   },
   {
    "duration": 11,
    "start_time": "2024-06-05T21:23:06.172Z"
   },
   {
    "duration": 242,
    "start_time": "2024-06-05T21:23:11.477Z"
   },
   {
    "duration": 255,
    "start_time": "2024-06-05T21:23:27.539Z"
   },
   {
    "duration": 251,
    "start_time": "2024-06-05T21:30:46.014Z"
   },
   {
    "duration": 261,
    "start_time": "2024-06-05T21:30:58.022Z"
   },
   {
    "duration": 37,
    "start_time": "2024-06-05T21:31:09.414Z"
   },
   {
    "duration": 248,
    "start_time": "2024-06-05T21:31:14.132Z"
   },
   {
    "duration": 921,
    "start_time": "2024-06-05T21:32:09.785Z"
   },
   {
    "duration": 202,
    "start_time": "2024-06-05T21:32:47.528Z"
   },
   {
    "duration": 42,
    "start_time": "2024-06-05T21:33:01.505Z"
   },
   {
    "duration": 8,
    "start_time": "2024-06-05T21:33:52.249Z"
   },
   {
    "duration": 21,
    "start_time": "2024-06-05T21:34:00.989Z"
   },
   {
    "duration": 29,
    "start_time": "2024-06-05T21:34:10.702Z"
   },
   {
    "duration": 6,
    "start_time": "2024-06-05T21:35:20.907Z"
   },
   {
    "duration": 27,
    "start_time": "2024-06-05T21:36:35.033Z"
   },
   {
    "duration": 5,
    "start_time": "2024-06-05T21:36:46.917Z"
   },
   {
    "duration": 11,
    "start_time": "2024-06-05T21:36:59.297Z"
   },
   {
    "duration": 17,
    "start_time": "2024-06-05T21:37:18.214Z"
   },
   {
    "duration": 27,
    "start_time": "2024-06-05T21:41:03.009Z"
   },
   {
    "duration": 18,
    "start_time": "2024-06-05T21:41:10.488Z"
   },
   {
    "duration": 6,
    "start_time": "2024-06-05T21:42:01.254Z"
   },
   {
    "duration": 22,
    "start_time": "2024-06-05T21:43:01.935Z"
   },
   {
    "duration": 19,
    "start_time": "2024-06-05T21:43:13.017Z"
   },
   {
    "duration": 25,
    "start_time": "2024-06-05T21:45:43.662Z"
   },
   {
    "duration": 25,
    "start_time": "2024-06-05T21:45:48.104Z"
   },
   {
    "duration": 3,
    "start_time": "2024-06-05T21:46:42.542Z"
   },
   {
    "duration": 122,
    "start_time": "2024-06-05T21:47:28.091Z"
   },
   {
    "duration": 49,
    "start_time": "2024-06-05T21:47:37.986Z"
   },
   {
    "duration": 8,
    "start_time": "2024-06-05T21:47:46.638Z"
   },
   {
    "duration": 4,
    "start_time": "2024-06-05T21:47:50.106Z"
   },
   {
    "duration": 4,
    "start_time": "2024-06-05T21:47:58.627Z"
   },
   {
    "duration": 14,
    "start_time": "2024-06-05T21:48:28.536Z"
   },
   {
    "duration": 14,
    "start_time": "2024-06-05T21:49:06.396Z"
   },
   {
    "duration": 18,
    "start_time": "2024-06-05T21:49:11.827Z"
   },
   {
    "duration": 6,
    "start_time": "2024-06-05T21:56:22.410Z"
   },
   {
    "duration": 15,
    "start_time": "2024-06-05T21:57:13.591Z"
   },
   {
    "duration": 19,
    "start_time": "2024-06-05T21:57:17.973Z"
   },
   {
    "duration": 18,
    "start_time": "2024-06-05T21:58:32.179Z"
   },
   {
    "duration": 17,
    "start_time": "2024-06-05T21:58:42.833Z"
   },
   {
    "duration": 15,
    "start_time": "2024-06-05T21:58:46.875Z"
   },
   {
    "duration": 14,
    "start_time": "2024-06-05T21:59:20.004Z"
   },
   {
    "duration": 16,
    "start_time": "2024-06-05T21:59:46.382Z"
   },
   {
    "duration": 20,
    "start_time": "2024-06-05T22:15:11.304Z"
   },
   {
    "duration": 15,
    "start_time": "2024-06-05T22:15:34.676Z"
   },
   {
    "duration": 18,
    "start_time": "2024-06-05T22:15:39.693Z"
   },
   {
    "duration": 200,
    "start_time": "2024-06-05T22:16:08.130Z"
   },
   {
    "duration": 24,
    "start_time": "2024-06-05T22:16:51.461Z"
   },
   {
    "duration": 87,
    "start_time": "2024-06-05T22:17:00.240Z"
   },
   {
    "duration": 89,
    "start_time": "2024-06-05T22:17:30.823Z"
   },
   {
    "duration": 20,
    "start_time": "2024-06-05T22:19:10.425Z"
   },
   {
    "duration": 17,
    "start_time": "2024-06-05T22:19:15.754Z"
   },
   {
    "duration": 15,
    "start_time": "2024-06-05T22:19:42.220Z"
   },
   {
    "duration": 20,
    "start_time": "2024-06-05T22:20:07.736Z"
   },
   {
    "duration": 5,
    "start_time": "2024-06-05T22:22:49.949Z"
   },
   {
    "duration": 19,
    "start_time": "2024-06-05T22:23:05.313Z"
   },
   {
    "duration": 25,
    "start_time": "2024-06-05T22:23:09.422Z"
   },
   {
    "duration": 21,
    "start_time": "2024-06-05T22:23:23.138Z"
   },
   {
    "duration": 19,
    "start_time": "2024-06-05T22:23:43.056Z"
   },
   {
    "duration": 20,
    "start_time": "2024-06-05T22:24:07.362Z"
   },
   {
    "duration": 31,
    "start_time": "2024-06-05T22:37:26.171Z"
   },
   {
    "duration": 4,
    "start_time": "2024-06-05T22:37:28.640Z"
   },
   {
    "duration": 20,
    "start_time": "2024-06-05T22:37:30.086Z"
   },
   {
    "duration": 21,
    "start_time": "2024-06-05T22:37:38.591Z"
   },
   {
    "duration": 23,
    "start_time": "2024-06-05T22:37:45.094Z"
   },
   {
    "duration": 19,
    "start_time": "2024-06-05T22:37:47.082Z"
   },
   {
    "duration": 18,
    "start_time": "2024-06-05T22:37:48.907Z"
   },
   {
    "duration": 18,
    "start_time": "2024-06-05T22:37:50.601Z"
   },
   {
    "duration": 18,
    "start_time": "2024-06-05T22:37:52.714Z"
   },
   {
    "duration": 19,
    "start_time": "2024-06-05T22:37:54.142Z"
   },
   {
    "duration": 17,
    "start_time": "2024-06-05T22:37:56.417Z"
   },
   {
    "duration": 46,
    "start_time": "2024-06-05T22:38:16.370Z"
   },
   {
    "duration": 42,
    "start_time": "2024-06-05T22:38:32.167Z"
   },
   {
    "duration": 14,
    "start_time": "2024-06-05T22:38:47.620Z"
   },
   {
    "duration": 16,
    "start_time": "2024-06-05T22:38:59.444Z"
   },
   {
    "duration": 16,
    "start_time": "2024-06-05T22:39:13.912Z"
   },
   {
    "duration": 556,
    "start_time": "2024-06-05T22:39:54.210Z"
   },
   {
    "duration": 37,
    "start_time": "2024-06-05T22:40:27.385Z"
   },
   {
    "duration": 501,
    "start_time": "2024-06-05T22:40:44.675Z"
   },
   {
    "duration": 19,
    "start_time": "2024-06-05T23:02:43.996Z"
   },
   {
    "duration": 17,
    "start_time": "2024-06-05T23:03:13.283Z"
   },
   {
    "duration": 17,
    "start_time": "2024-06-05T23:03:34.098Z"
   },
   {
    "duration": 20,
    "start_time": "2024-06-05T23:18:55.336Z"
   },
   {
    "duration": 20,
    "start_time": "2024-06-05T23:19:26.110Z"
   },
   {
    "duration": 8,
    "start_time": "2024-06-05T23:19:33.470Z"
   },
   {
    "duration": 3,
    "start_time": "2024-06-05T23:20:37.822Z"
   },
   {
    "duration": 19,
    "start_time": "2024-06-05T23:23:53.220Z"
   },
   {
    "duration": 8,
    "start_time": "2024-06-05T23:24:17.543Z"
   },
   {
    "duration": 1453,
    "start_time": "2024-06-05T23:42:35.483Z"
   },
   {
    "duration": 399,
    "start_time": "2024-06-05T23:42:36.939Z"
   },
   {
    "duration": 22,
    "start_time": "2024-06-05T23:42:37.341Z"
   },
   {
    "duration": 26,
    "start_time": "2024-06-05T23:42:37.368Z"
   },
   {
    "duration": 33,
    "start_time": "2024-06-05T23:42:37.397Z"
   },
   {
    "duration": 90,
    "start_time": "2024-06-05T23:42:37.433Z"
   },
   {
    "duration": 7,
    "start_time": "2024-06-05T23:42:37.527Z"
   },
   {
    "duration": 360,
    "start_time": "2024-06-05T23:42:37.538Z"
   },
   {
    "duration": 29,
    "start_time": "2024-06-05T23:42:37.901Z"
   },
   {
    "duration": 19,
    "start_time": "2024-06-05T23:42:37.936Z"
   },
   {
    "duration": 14,
    "start_time": "2024-06-05T23:42:37.958Z"
   },
   {
    "duration": 100,
    "start_time": "2024-06-05T23:42:37.975Z"
   },
   {
    "duration": 288,
    "start_time": "2024-06-05T23:42:38.078Z"
   },
   {
    "duration": 17,
    "start_time": "2024-06-05T23:42:38.369Z"
   },
   {
    "duration": 39,
    "start_time": "2024-06-05T23:42:38.389Z"
   },
   {
    "duration": 13,
    "start_time": "2024-06-05T23:42:38.431Z"
   },
   {
    "duration": 92,
    "start_time": "2024-06-05T23:42:38.447Z"
   },
   {
    "duration": 285,
    "start_time": "2024-06-05T23:42:38.542Z"
   },
   {
    "duration": 4,
    "start_time": "2024-06-05T23:42:38.831Z"
   },
   {
    "duration": 20,
    "start_time": "2024-06-05T23:42:38.838Z"
   },
   {
    "duration": 21,
    "start_time": "2024-06-05T23:42:38.861Z"
   },
   {
    "duration": 21,
    "start_time": "2024-06-05T23:42:38.922Z"
   },
   {
    "duration": 23,
    "start_time": "2024-06-05T23:42:38.946Z"
   },
   {
    "duration": 60,
    "start_time": "2024-06-05T23:42:38.971Z"
   },
   {
    "duration": 94,
    "start_time": "2024-06-05T23:42:39.040Z"
   },
   {
    "duration": 85,
    "start_time": "2024-06-05T23:42:39.138Z"
   },
   {
    "duration": 96,
    "start_time": "2024-06-05T23:42:39.227Z"
   },
   {
    "duration": 15,
    "start_time": "2024-06-05T23:42:39.330Z"
   },
   {
    "duration": 587,
    "start_time": "2024-06-05T23:42:39.424Z"
   },
   {
    "duration": 520,
    "start_time": "2024-06-05T23:42:40.022Z"
   },
   {
    "duration": 7,
    "start_time": "2024-06-05T23:42:40.547Z"
   },
   {
    "duration": 19,
    "start_time": "2024-06-05T23:43:24.433Z"
   },
   {
    "duration": 1440,
    "start_time": "2024-06-05T23:43:39.801Z"
   },
   {
    "duration": 6,
    "start_time": "2024-06-05T23:43:48.087Z"
   },
   {
    "duration": 18,
    "start_time": "2024-06-05T23:43:55.920Z"
   },
   {
    "duration": 8,
    "start_time": "2024-06-05T23:44:00.445Z"
   },
   {
    "duration": 24,
    "start_time": "2024-06-05T23:44:05.708Z"
   },
   {
    "duration": 23,
    "start_time": "2024-06-05T23:44:11.581Z"
   },
   {
    "duration": 23,
    "start_time": "2024-06-05T23:44:16.829Z"
   },
   {
    "duration": 30,
    "start_time": "2024-06-05T23:51:14.312Z"
   },
   {
    "duration": 5,
    "start_time": "2024-06-05T23:52:04.373Z"
   },
   {
    "duration": 26,
    "start_time": "2024-06-05T23:52:06.448Z"
   },
   {
    "duration": 5,
    "start_time": "2024-06-05T23:53:12.012Z"
   },
   {
    "duration": 3,
    "start_time": "2024-06-05T23:53:22.498Z"
   },
   {
    "duration": 5,
    "start_time": "2024-06-05T23:53:51.866Z"
   },
   {
    "duration": 7,
    "start_time": "2024-06-05T23:54:22.930Z"
   },
   {
    "duration": 6,
    "start_time": "2024-06-05T23:54:36.637Z"
   },
   {
    "duration": 6,
    "start_time": "2024-06-05T23:56:06.109Z"
   },
   {
    "duration": 5031,
    "start_time": "2024-06-06T21:50:29.405Z"
   },
   {
    "duration": 475,
    "start_time": "2024-06-06T21:50:34.439Z"
   },
   {
    "duration": 26,
    "start_time": "2024-06-06T21:50:34.916Z"
   },
   {
    "duration": 21,
    "start_time": "2024-06-06T21:50:34.945Z"
   },
   {
    "duration": 38,
    "start_time": "2024-06-06T21:50:34.973Z"
   },
   {
    "duration": 88,
    "start_time": "2024-06-06T21:50:35.015Z"
   },
   {
    "duration": 9,
    "start_time": "2024-06-06T21:50:35.106Z"
   },
   {
    "duration": 277,
    "start_time": "2024-06-06T21:50:35.118Z"
   },
   {
    "duration": 18,
    "start_time": "2024-06-06T21:50:35.403Z"
   },
   {
    "duration": 19,
    "start_time": "2024-06-06T21:50:35.424Z"
   },
   {
    "duration": 13,
    "start_time": "2024-06-06T21:50:35.446Z"
   },
   {
    "duration": 54,
    "start_time": "2024-06-06T21:50:35.502Z"
   },
   {
    "duration": 268,
    "start_time": "2024-06-06T21:50:35.560Z"
   },
   {
    "duration": 19,
    "start_time": "2024-06-06T21:50:35.835Z"
   },
   {
    "duration": 50,
    "start_time": "2024-06-06T21:50:35.857Z"
   },
   {
    "duration": 14,
    "start_time": "2024-06-06T21:50:35.910Z"
   },
   {
    "duration": 95,
    "start_time": "2024-06-06T21:50:35.927Z"
   },
   {
    "duration": 335,
    "start_time": "2024-06-06T21:50:36.025Z"
   },
   {
    "duration": 4,
    "start_time": "2024-06-06T21:50:36.363Z"
   },
   {
    "duration": 35,
    "start_time": "2024-06-06T21:50:36.370Z"
   },
   {
    "duration": 35,
    "start_time": "2024-06-06T21:50:36.407Z"
   },
   {
    "duration": 60,
    "start_time": "2024-06-06T21:50:36.446Z"
   },
   {
    "duration": 25,
    "start_time": "2024-06-06T21:50:36.509Z"
   },
   {
    "duration": 70,
    "start_time": "2024-06-06T21:50:36.537Z"
   },
   {
    "duration": 21,
    "start_time": "2024-06-06T21:50:36.611Z"
   },
   {
    "duration": 89,
    "start_time": "2024-06-06T21:50:36.636Z"
   },
   {
    "duration": 88,
    "start_time": "2024-06-06T21:50:36.729Z"
   },
   {
    "duration": 86,
    "start_time": "2024-06-06T21:50:36.820Z"
   },
   {
    "duration": 717,
    "start_time": "2024-06-06T21:50:36.909Z"
   },
   {
    "duration": 547,
    "start_time": "2024-06-06T21:50:37.629Z"
   },
   {
    "duration": 4,
    "start_time": "2024-06-06T21:50:38.179Z"
   },
   {
    "duration": 6,
    "start_time": "2024-06-06T21:50:38.189Z"
   },
   {
    "duration": 11,
    "start_time": "2024-06-06T21:50:38.203Z"
   },
   {
    "duration": 9,
    "start_time": "2024-06-06T21:50:38.217Z"
   },
   {
    "duration": 6,
    "start_time": "2024-06-06T22:47:33.658Z"
   },
   {
    "duration": 7,
    "start_time": "2024-06-06T22:48:31.254Z"
   },
   {
    "duration": 6,
    "start_time": "2024-06-06T22:49:02.244Z"
   },
   {
    "duration": 515,
    "start_time": "2024-06-06T22:49:10.004Z"
   },
   {
    "duration": 6,
    "start_time": "2024-06-06T22:54:21.542Z"
   },
   {
    "duration": 28,
    "start_time": "2024-06-06T22:55:27.204Z"
   },
   {
    "duration": 9,
    "start_time": "2024-06-06T22:55:38.247Z"
   },
   {
    "duration": 34,
    "start_time": "2024-06-06T22:55:52.064Z"
   },
   {
    "duration": 10,
    "start_time": "2024-06-06T22:55:56.709Z"
   },
   {
    "duration": 107,
    "start_time": "2024-06-06T22:56:32.781Z"
   },
   {
    "duration": 26,
    "start_time": "2024-06-06T22:56:41.440Z"
   },
   {
    "duration": 44,
    "start_time": "2024-06-06T22:56:49.639Z"
   },
   {
    "duration": 41,
    "start_time": "2024-06-06T22:57:24.157Z"
   },
   {
    "duration": 9,
    "start_time": "2024-06-06T22:57:32.109Z"
   },
   {
    "duration": 44,
    "start_time": "2024-06-06T22:58:03.209Z"
   },
   {
    "duration": 7,
    "start_time": "2024-06-06T22:59:45.432Z"
   },
   {
    "duration": 28,
    "start_time": "2024-06-06T23:00:01.413Z"
   },
   {
    "duration": 37,
    "start_time": "2024-06-06T23:00:15.927Z"
   },
   {
    "duration": 6,
    "start_time": "2024-06-06T23:00:25.727Z"
   },
   {
    "duration": 26,
    "start_time": "2024-06-06T23:00:34.941Z"
   },
   {
    "duration": 7,
    "start_time": "2024-06-06T23:00:46.494Z"
   },
   {
    "duration": 11,
    "start_time": "2024-06-06T23:00:54.510Z"
   },
   {
    "duration": 28,
    "start_time": "2024-06-06T23:01:03.097Z"
   },
   {
    "duration": 745,
    "start_time": "2024-06-06T23:01:48.507Z"
   },
   {
    "duration": 6,
    "start_time": "2024-06-06T23:02:02.878Z"
   },
   {
    "duration": 7,
    "start_time": "2024-06-06T23:04:24.733Z"
   },
   {
    "duration": 29,
    "start_time": "2024-06-06T23:06:05.887Z"
   },
   {
    "duration": 31,
    "start_time": "2024-06-06T23:06:26.025Z"
   },
   {
    "duration": 28,
    "start_time": "2024-06-06T23:06:53.900Z"
   },
   {
    "duration": 0,
    "start_time": "2024-06-06T23:07:33.081Z"
   },
   {
    "duration": 1366,
    "start_time": "2024-06-06T23:07:52.246Z"
   },
   {
    "duration": 439,
    "start_time": "2024-06-06T23:07:53.616Z"
   },
   {
    "duration": 21,
    "start_time": "2024-06-06T23:07:54.058Z"
   },
   {
    "duration": 32,
    "start_time": "2024-06-06T23:07:54.082Z"
   },
   {
    "duration": 15,
    "start_time": "2024-06-06T23:07:54.118Z"
   },
   {
    "duration": 93,
    "start_time": "2024-06-06T23:07:54.136Z"
   },
   {
    "duration": 6,
    "start_time": "2024-06-06T23:07:54.231Z"
   },
   {
    "duration": 349,
    "start_time": "2024-06-06T23:07:54.240Z"
   },
   {
    "duration": 25,
    "start_time": "2024-06-06T23:07:54.592Z"
   },
   {
    "duration": 18,
    "start_time": "2024-06-06T23:07:54.620Z"
   },
   {
    "duration": 14,
    "start_time": "2024-06-06T23:07:54.642Z"
   },
   {
    "duration": 100,
    "start_time": "2024-06-06T23:07:54.659Z"
   },
   {
    "duration": 270,
    "start_time": "2024-06-06T23:07:54.763Z"
   },
   {
    "duration": 17,
    "start_time": "2024-06-06T23:07:55.040Z"
   },
   {
    "duration": 47,
    "start_time": "2024-06-06T23:07:55.061Z"
   },
   {
    "duration": 14,
    "start_time": "2024-06-06T23:07:55.111Z"
   },
   {
    "duration": 84,
    "start_time": "2024-06-06T23:07:55.128Z"
   },
   {
    "duration": 256,
    "start_time": "2024-06-06T23:07:55.215Z"
   },
   {
    "duration": 4,
    "start_time": "2024-06-06T23:07:55.474Z"
   },
   {
    "duration": 34,
    "start_time": "2024-06-06T23:07:55.481Z"
   },
   {
    "duration": 20,
    "start_time": "2024-06-06T23:07:55.518Z"
   },
   {
    "duration": 22,
    "start_time": "2024-06-06T23:07:55.541Z"
   },
   {
    "duration": 48,
    "start_time": "2024-06-06T23:07:55.568Z"
   },
   {
    "duration": 91,
    "start_time": "2024-06-06T23:07:55.623Z"
   },
   {
    "duration": 84,
    "start_time": "2024-06-06T23:07:55.726Z"
   },
   {
    "duration": 15,
    "start_time": "2024-06-06T23:07:55.813Z"
   },
   {
    "duration": 93,
    "start_time": "2024-06-06T23:07:55.830Z"
   },
   {
    "duration": 83,
    "start_time": "2024-06-06T23:07:55.926Z"
   },
   {
    "duration": 634,
    "start_time": "2024-06-06T23:07:56.012Z"
   },
   {
    "duration": 528,
    "start_time": "2024-06-06T23:07:56.650Z"
   },
   {
    "duration": 3,
    "start_time": "2024-06-06T23:07:57.182Z"
   },
   {
    "duration": 5,
    "start_time": "2024-06-06T23:07:57.203Z"
   },
   {
    "duration": 7,
    "start_time": "2024-06-06T23:07:57.212Z"
   },
   {
    "duration": 7,
    "start_time": "2024-06-06T23:07:57.222Z"
   },
   {
    "duration": 7,
    "start_time": "2024-06-06T23:07:57.232Z"
   },
   {
    "duration": 467,
    "start_time": "2024-06-06T23:08:04.611Z"
   },
   {
    "duration": 5,
    "start_time": "2024-06-06T23:09:44.646Z"
   },
   {
    "duration": 325,
    "start_time": "2024-06-06T23:10:29.844Z"
   },
   {
    "duration": 29,
    "start_time": "2024-06-06T23:12:32.374Z"
   },
   {
    "duration": 1077,
    "start_time": "2024-06-06T23:12:46.168Z"
   },
   {
    "duration": 134,
    "start_time": "2024-06-06T23:12:58.622Z"
   },
   {
    "duration": 10,
    "start_time": "2024-06-06T23:14:23.613Z"
   },
   {
    "duration": 13,
    "start_time": "2024-06-06T23:15:03.391Z"
   },
   {
    "duration": 13,
    "start_time": "2024-06-06T23:15:22.426Z"
   },
   {
    "duration": 11,
    "start_time": "2024-06-06T23:15:31.335Z"
   },
   {
    "duration": 13,
    "start_time": "2024-06-06T23:15:34.935Z"
   },
   {
    "duration": 13,
    "start_time": "2024-06-06T23:15:40.425Z"
   },
   {
    "duration": 14,
    "start_time": "2024-06-06T23:16:02.295Z"
   },
   {
    "duration": 5,
    "start_time": "2024-06-06T23:17:13.326Z"
   },
   {
    "duration": 5,
    "start_time": "2024-06-06T23:17:29.269Z"
   },
   {
    "duration": 4,
    "start_time": "2024-06-06T23:17:59.863Z"
   },
   {
    "duration": 6,
    "start_time": "2024-06-06T23:19:22.187Z"
   },
   {
    "duration": 14,
    "start_time": "2024-06-06T23:21:05.078Z"
   },
   {
    "duration": 14,
    "start_time": "2024-06-06T23:21:07.375Z"
   },
   {
    "duration": 4,
    "start_time": "2024-06-06T23:21:08.351Z"
   },
   {
    "duration": 4,
    "start_time": "2024-06-06T23:27:39.196Z"
   },
   {
    "duration": 10,
    "start_time": "2024-06-06T23:28:30.030Z"
   },
   {
    "duration": 37,
    "start_time": "2024-06-06T23:29:17.650Z"
   },
   {
    "duration": 62,
    "start_time": "2024-06-06T23:30:15.883Z"
   },
   {
    "duration": 63,
    "start_time": "2024-06-06T23:30:34.128Z"
   },
   {
    "duration": 56,
    "start_time": "2024-06-06T23:30:41.980Z"
   },
   {
    "duration": 242,
    "start_time": "2024-06-06T23:30:50.470Z"
   },
   {
    "duration": 243,
    "start_time": "2024-06-06T23:31:41.075Z"
   },
   {
    "duration": 4,
    "start_time": "2024-06-06T23:32:19.678Z"
   },
   {
    "duration": 27,
    "start_time": "2024-06-06T23:32:55.729Z"
   },
   {
    "duration": 124,
    "start_time": "2024-06-06T23:33:02.473Z"
   },
   {
    "duration": 164,
    "start_time": "2024-06-06T23:33:11.951Z"
   },
   {
    "duration": 241,
    "start_time": "2024-06-06T23:33:46.879Z"
   },
   {
    "duration": 52,
    "start_time": "2024-06-06T23:33:54.160Z"
   },
   {
    "duration": 8,
    "start_time": "2024-06-06T23:35:02.277Z"
   },
   {
    "duration": 30,
    "start_time": "2024-06-06T23:35:57.222Z"
   },
   {
    "duration": 30,
    "start_time": "2024-06-06T23:36:02.427Z"
   },
   {
    "duration": 7,
    "start_time": "2024-06-06T23:37:12.265Z"
   },
   {
    "duration": 27,
    "start_time": "2024-06-06T23:37:31.696Z"
   },
   {
    "duration": 32,
    "start_time": "2024-06-06T23:37:45.995Z"
   },
   {
    "duration": 89,
    "start_time": "2024-06-06T23:39:29.627Z"
   },
   {
    "duration": 37,
    "start_time": "2024-06-06T23:39:49.175Z"
   },
   {
    "duration": 38,
    "start_time": "2024-06-06T23:40:00.764Z"
   },
   {
    "duration": 41,
    "start_time": "2024-06-06T23:40:12.053Z"
   },
   {
    "duration": 42,
    "start_time": "2024-06-06T23:40:16.341Z"
   },
   {
    "duration": 32,
    "start_time": "2024-06-06T23:41:04.695Z"
   },
   {
    "duration": 34,
    "start_time": "2024-06-06T23:41:09.672Z"
   },
   {
    "duration": 51,
    "start_time": "2024-06-06T23:41:19.865Z"
   },
   {
    "duration": 66,
    "start_time": "2024-06-06T23:41:26.319Z"
   },
   {
    "duration": 32,
    "start_time": "2024-06-06T23:41:28.954Z"
   },
   {
    "duration": 34,
    "start_time": "2024-06-06T23:41:36.195Z"
   },
   {
    "duration": 57,
    "start_time": "2024-06-06T23:41:57.745Z"
   },
   {
    "duration": 7,
    "start_time": "2024-06-06T23:45:31.904Z"
   },
   {
    "duration": 31,
    "start_time": "2024-06-06T23:46:16.888Z"
   },
   {
    "duration": 300,
    "start_time": "2024-06-06T23:46:25.864Z"
   },
   {
    "duration": 168,
    "start_time": "2024-06-06T23:47:52.785Z"
   },
   {
    "duration": 34,
    "start_time": "2024-06-06T23:48:14.919Z"
   },
   {
    "duration": 70,
    "start_time": "2024-06-06T23:49:03.612Z"
   },
   {
    "duration": 6,
    "start_time": "2024-06-07T00:04:27.954Z"
   },
   {
    "duration": 8,
    "start_time": "2024-06-07T00:04:48.234Z"
   },
   {
    "duration": 9,
    "start_time": "2024-06-07T00:04:53.622Z"
   },
   {
    "duration": 6,
    "start_time": "2024-06-07T00:05:08.819Z"
   },
   {
    "duration": 24,
    "start_time": "2024-06-07T00:06:16.272Z"
   },
   {
    "duration": 31,
    "start_time": "2024-06-07T00:06:34.886Z"
   },
   {
    "duration": 7,
    "start_time": "2024-06-07T00:15:45.604Z"
   },
   {
    "duration": 47,
    "start_time": "2024-06-07T00:16:38.623Z"
   },
   {
    "duration": 48,
    "start_time": "2024-06-07T00:16:43.055Z"
   },
   {
    "duration": 43,
    "start_time": "2024-06-07T00:16:59.006Z"
   },
   {
    "duration": 26,
    "start_time": "2024-06-07T00:18:31.708Z"
   },
   {
    "duration": 40,
    "start_time": "2024-06-07T00:19:26.287Z"
   },
   {
    "duration": 28,
    "start_time": "2024-06-07T00:19:54.740Z"
   },
   {
    "duration": 34,
    "start_time": "2024-06-07T00:20:02.800Z"
   },
   {
    "duration": 25,
    "start_time": "2024-06-07T00:20:21.587Z"
   },
   {
    "duration": 26,
    "start_time": "2024-06-07T00:20:57.233Z"
   },
   {
    "duration": 170,
    "start_time": "2024-06-07T00:22:09.111Z"
   },
   {
    "duration": 13,
    "start_time": "2024-06-07T00:22:15.128Z"
   },
   {
    "duration": 502,
    "start_time": "2024-06-07T00:22:23.202Z"
   },
   {
    "duration": 807,
    "start_time": "2024-06-07T00:22:49.190Z"
   },
   {
    "duration": 1639,
    "start_time": "2024-06-07T00:22:56.973Z"
   },
   {
    "duration": 15,
    "start_time": "2024-06-07T00:24:47.661Z"
   },
   {
    "duration": 1648,
    "start_time": "2024-06-07T00:24:54.776Z"
   },
   {
    "duration": 1617,
    "start_time": "2024-06-07T00:27:00.274Z"
   },
   {
    "duration": 1650,
    "start_time": "2024-06-07T00:28:37.092Z"
   },
   {
    "duration": 1669,
    "start_time": "2024-06-07T00:28:45.335Z"
   },
   {
    "duration": 1838,
    "start_time": "2024-06-07T00:29:00.020Z"
   },
   {
    "duration": 1604,
    "start_time": "2024-06-07T00:46:03.686Z"
   },
   {
    "duration": 26,
    "start_time": "2024-06-07T00:53:16.870Z"
   },
   {
    "duration": 23,
    "start_time": "2024-06-07T00:53:55.871Z"
   },
   {
    "duration": 27,
    "start_time": "2024-06-07T00:54:03.082Z"
   },
   {
    "duration": 24,
    "start_time": "2024-06-07T00:55:39.866Z"
   },
   {
    "duration": 4,
    "start_time": "2024-06-07T00:55:43.581Z"
   },
   {
    "duration": 324,
    "start_time": "2024-06-07T00:56:40.091Z"
   },
   {
    "duration": 1613,
    "start_time": "2024-06-07T00:56:58.931Z"
   },
   {
    "duration": 1615,
    "start_time": "2024-06-07T00:57:17.754Z"
   },
   {
    "duration": 1698,
    "start_time": "2024-06-07T00:57:25.970Z"
   },
   {
    "duration": 1586,
    "start_time": "2024-06-07T00:57:34.070Z"
   },
   {
    "duration": 1596,
    "start_time": "2024-06-07T00:57:44.073Z"
   },
   {
    "duration": 1686,
    "start_time": "2024-06-07T00:58:35.607Z"
   },
   {
    "duration": 1608,
    "start_time": "2024-06-07T00:58:46.178Z"
   },
   {
    "duration": 1644,
    "start_time": "2024-06-07T00:59:01.470Z"
   },
   {
    "duration": 8,
    "start_time": "2024-06-07T00:59:49.213Z"
   },
   {
    "duration": 11,
    "start_time": "2024-06-07T01:00:53.976Z"
   },
   {
    "duration": 303,
    "start_time": "2024-06-07T01:01:23.663Z"
   },
   {
    "duration": 2101,
    "start_time": "2024-06-07T01:01:35.496Z"
   },
   {
    "duration": 2091,
    "start_time": "2024-06-07T01:01:45.082Z"
   },
   {
    "duration": 2077,
    "start_time": "2024-06-07T01:01:57.535Z"
   },
   {
    "duration": 2082,
    "start_time": "2024-06-07T01:02:15.484Z"
   },
   {
    "duration": 2145,
    "start_time": "2024-06-07T01:02:26.012Z"
   },
   {
    "duration": 2072,
    "start_time": "2024-06-07T01:02:31.920Z"
   },
   {
    "duration": 2049,
    "start_time": "2024-06-07T01:02:38.763Z"
   },
   {
    "duration": 9,
    "start_time": "2024-06-07T01:02:52.850Z"
   },
   {
    "duration": 2574,
    "start_time": "2024-06-07T01:03:25.020Z"
   },
   {
    "duration": 10,
    "start_time": "2024-06-07T01:03:43.403Z"
   },
   {
    "duration": 13,
    "start_time": "2024-06-07T01:03:47.679Z"
   },
   {
    "duration": 9,
    "start_time": "2024-06-07T01:03:51.459Z"
   },
   {
    "duration": 36,
    "start_time": "2024-06-07T01:04:29.885Z"
   },
   {
    "duration": 38,
    "start_time": "2024-06-07T01:04:51.594Z"
   },
   {
    "duration": 37,
    "start_time": "2024-06-07T01:05:16.489Z"
   },
   {
    "duration": 37,
    "start_time": "2024-06-07T01:05:29.592Z"
   },
   {
    "duration": 57,
    "start_time": "2024-06-07T01:05:40.368Z"
   },
   {
    "duration": 2151,
    "start_time": "2024-06-07T01:05:44.956Z"
   },
   {
    "duration": 9,
    "start_time": "2024-06-07T01:11:58.635Z"
   },
   {
    "duration": 83,
    "start_time": "2024-06-07T01:12:03.468Z"
   },
   {
    "duration": 5,
    "start_time": "2024-06-07T01:13:00.276Z"
   },
   {
    "duration": 10,
    "start_time": "2024-06-07T01:13:05.046Z"
   },
   {
    "duration": 14,
    "start_time": "2024-06-07T01:13:16.687Z"
   },
   {
    "duration": 5,
    "start_time": "2024-06-07T01:13:43.141Z"
   },
   {
    "duration": 7,
    "start_time": "2024-06-07T01:15:00.463Z"
   },
   {
    "duration": 30,
    "start_time": "2024-06-07T01:15:30.391Z"
   },
   {
    "duration": 52,
    "start_time": "2024-06-07T01:16:07.350Z"
   },
   {
    "duration": 32,
    "start_time": "2024-06-07T01:16:16.857Z"
   },
   {
    "duration": 7,
    "start_time": "2024-06-07T01:16:44.128Z"
   },
   {
    "duration": 9,
    "start_time": "2024-06-07T01:17:27.055Z"
   },
   {
    "duration": 56,
    "start_time": "2024-06-07T01:17:56.098Z"
   },
   {
    "duration": 7,
    "start_time": "2024-06-07T01:18:41.584Z"
   },
   {
    "duration": 123,
    "start_time": "2024-06-07T01:18:59.671Z"
   },
   {
    "duration": 207,
    "start_time": "2024-06-07T01:19:17.448Z"
   },
   {
    "duration": 228,
    "start_time": "2024-06-07T01:19:45.818Z"
   },
   {
    "duration": 203,
    "start_time": "2024-06-07T01:19:56.905Z"
   },
   {
    "duration": 216,
    "start_time": "2024-06-07T01:20:00.199Z"
   },
   {
    "duration": 213,
    "start_time": "2024-06-07T01:20:03.832Z"
   },
   {
    "duration": 263,
    "start_time": "2024-06-07T01:20:10.767Z"
   },
   {
    "duration": 222,
    "start_time": "2024-06-07T01:20:17.739Z"
   },
   {
    "duration": 263,
    "start_time": "2024-06-07T01:20:27.167Z"
   },
   {
    "duration": 8,
    "start_time": "2024-06-07T01:20:35.616Z"
   },
   {
    "duration": 11,
    "start_time": "2024-06-07T01:20:42.631Z"
   },
   {
    "duration": 214,
    "start_time": "2024-06-07T01:20:51.523Z"
   },
   {
    "duration": 210,
    "start_time": "2024-06-07T01:20:57.609Z"
   },
   {
    "duration": 15,
    "start_time": "2024-06-07T01:21:08.029Z"
   },
   {
    "duration": 222,
    "start_time": "2024-06-07T01:21:17.910Z"
   },
   {
    "duration": 208,
    "start_time": "2024-06-07T01:21:20.623Z"
   },
   {
    "duration": 205,
    "start_time": "2024-06-07T01:21:28.360Z"
   },
   {
    "duration": 2080,
    "start_time": "2024-06-07T01:21:36.099Z"
   },
   {
    "duration": 2245,
    "start_time": "2024-06-07T01:21:58.036Z"
   },
   {
    "duration": 1910,
    "start_time": "2024-06-07T01:22:04.238Z"
   },
   {
    "duration": 1637,
    "start_time": "2024-06-07T01:22:14.845Z"
   },
   {
    "duration": 1740,
    "start_time": "2024-06-07T01:22:52.323Z"
   },
   {
    "duration": 1728,
    "start_time": "2024-06-07T01:22:59.704Z"
   },
   {
    "duration": 5,
    "start_time": "2024-06-07T01:23:34.923Z"
   },
   {
    "duration": 9,
    "start_time": "2024-06-07T01:23:40.623Z"
   },
   {
    "duration": 10,
    "start_time": "2024-06-07T01:23:46.757Z"
   },
   {
    "duration": 11,
    "start_time": "2024-06-07T01:23:56.166Z"
   },
   {
    "duration": 10,
    "start_time": "2024-06-07T01:23:59.876Z"
   },
   {
    "duration": 10,
    "start_time": "2024-06-07T01:24:08.013Z"
   },
   {
    "duration": 10,
    "start_time": "2024-06-07T01:24:15.507Z"
   },
   {
    "duration": 11,
    "start_time": "2024-06-07T01:30:29.631Z"
   },
   {
    "duration": 8,
    "start_time": "2024-06-07T01:30:34.044Z"
   },
   {
    "duration": 10,
    "start_time": "2024-06-07T01:30:37.967Z"
   },
   {
    "duration": 27,
    "start_time": "2024-06-07T01:32:01.183Z"
   },
   {
    "duration": 25,
    "start_time": "2024-06-07T01:32:08.010Z"
   },
   {
    "duration": 28,
    "start_time": "2024-06-07T01:32:21.678Z"
   },
   {
    "duration": 15,
    "start_time": "2024-06-07T01:33:25.356Z"
   },
   {
    "duration": 25,
    "start_time": "2024-06-07T01:33:31.396Z"
   },
   {
    "duration": 10,
    "start_time": "2024-06-07T01:33:37.181Z"
   },
   {
    "duration": 10,
    "start_time": "2024-06-07T01:33:50.424Z"
   },
   {
    "duration": 10,
    "start_time": "2024-06-07T01:33:53.991Z"
   },
   {
    "duration": 9,
    "start_time": "2024-06-07T01:33:59.614Z"
   },
   {
    "duration": 9,
    "start_time": "2024-06-07T01:34:01.276Z"
   },
   {
    "duration": 28,
    "start_time": "2024-06-07T01:34:20.027Z"
   },
   {
    "duration": 25,
    "start_time": "2024-06-07T01:34:24.640Z"
   },
   {
    "duration": 24,
    "start_time": "2024-06-07T01:34:32.333Z"
   },
   {
    "duration": 25,
    "start_time": "2024-06-07T01:34:39.077Z"
   },
   {
    "duration": 26,
    "start_time": "2024-06-07T01:34:52.045Z"
   },
   {
    "duration": 25,
    "start_time": "2024-06-07T01:35:27.597Z"
   },
   {
    "duration": 25,
    "start_time": "2024-06-07T01:35:29.571Z"
   },
   {
    "duration": 25,
    "start_time": "2024-06-07T01:35:35.657Z"
   },
   {
    "duration": 28,
    "start_time": "2024-06-07T01:36:04.841Z"
   },
   {
    "duration": 27,
    "start_time": "2024-06-07T01:36:10.406Z"
   },
   {
    "duration": 69,
    "start_time": "2024-06-07T01:36:28.945Z"
   },
   {
    "duration": 38,
    "start_time": "2024-06-07T01:36:55.870Z"
   },
   {
    "duration": 29,
    "start_time": "2024-06-07T01:37:22.914Z"
   },
   {
    "duration": 32,
    "start_time": "2024-06-07T01:37:38.753Z"
   },
   {
    "duration": 30,
    "start_time": "2024-06-07T01:37:49.208Z"
   },
   {
    "duration": 83,
    "start_time": "2024-06-07T01:38:05.533Z"
   },
   {
    "duration": 64,
    "start_time": "2024-06-07T01:38:10.050Z"
   },
   {
    "duration": 63,
    "start_time": "2024-06-07T01:38:17.393Z"
   },
   {
    "duration": 65,
    "start_time": "2024-06-07T01:38:24.225Z"
   },
   {
    "duration": 71,
    "start_time": "2024-06-07T01:39:56.476Z"
   },
   {
    "duration": 30,
    "start_time": "2024-06-07T01:45:24.303Z"
   },
   {
    "duration": 28,
    "start_time": "2024-06-07T01:45:39.607Z"
   },
   {
    "duration": 25,
    "start_time": "2024-06-07T01:45:59.114Z"
   },
   {
    "duration": 45,
    "start_time": "2024-06-07T01:47:24.551Z"
   },
   {
    "duration": 27,
    "start_time": "2024-06-07T01:47:27.961Z"
   },
   {
    "duration": 309,
    "start_time": "2024-06-07T01:48:02.577Z"
   },
   {
    "duration": 1413,
    "start_time": "2024-06-07T01:48:09.235Z"
   },
   {
    "duration": 384,
    "start_time": "2024-06-07T01:48:10.652Z"
   },
   {
    "duration": 22,
    "start_time": "2024-06-07T01:48:11.039Z"
   },
   {
    "duration": 41,
    "start_time": "2024-06-07T01:48:11.064Z"
   },
   {
    "duration": 13,
    "start_time": "2024-06-07T01:48:11.111Z"
   },
   {
    "duration": 85,
    "start_time": "2024-06-07T01:48:11.126Z"
   },
   {
    "duration": 7,
    "start_time": "2024-06-07T01:48:11.214Z"
   },
   {
    "duration": 283,
    "start_time": "2024-06-07T01:48:11.225Z"
   },
   {
    "duration": 18,
    "start_time": "2024-06-07T01:48:11.511Z"
   },
   {
    "duration": 19,
    "start_time": "2024-06-07T01:48:11.532Z"
   },
   {
    "duration": 49,
    "start_time": "2024-06-07T01:48:11.555Z"
   },
   {
    "duration": 55,
    "start_time": "2024-06-07T01:48:11.606Z"
   },
   {
    "duration": 264,
    "start_time": "2024-06-07T01:48:11.664Z"
   },
   {
    "duration": 17,
    "start_time": "2024-06-07T01:48:11.935Z"
   },
   {
    "duration": 46,
    "start_time": "2024-06-07T01:48:11.956Z"
   },
   {
    "duration": 13,
    "start_time": "2024-06-07T01:48:12.005Z"
   },
   {
    "duration": 82,
    "start_time": "2024-06-07T01:48:12.021Z"
   },
   {
    "duration": 264,
    "start_time": "2024-06-07T01:48:12.107Z"
   },
   {
    "duration": 4,
    "start_time": "2024-06-07T01:48:12.375Z"
   },
   {
    "duration": 35,
    "start_time": "2024-06-07T01:48:12.382Z"
   },
   {
    "duration": 20,
    "start_time": "2024-06-07T01:48:12.419Z"
   },
   {
    "duration": 20,
    "start_time": "2024-06-07T01:48:12.442Z"
   },
   {
    "duration": 55,
    "start_time": "2024-06-07T01:48:12.464Z"
   },
   {
    "duration": 82,
    "start_time": "2024-06-07T01:48:12.521Z"
   },
   {
    "duration": 28,
    "start_time": "2024-06-07T01:48:12.605Z"
   },
   {
    "duration": 15,
    "start_time": "2024-06-07T01:48:12.701Z"
   },
   {
    "duration": 91,
    "start_time": "2024-06-07T01:48:12.718Z"
   },
   {
    "duration": 16,
    "start_time": "2024-06-07T01:48:12.812Z"
   },
   {
    "duration": 602,
    "start_time": "2024-06-07T01:48:12.903Z"
   },
   {
    "duration": 596,
    "start_time": "2024-06-07T01:48:13.508Z"
   },
   {
    "duration": 5,
    "start_time": "2024-06-07T01:48:14.107Z"
   },
   {
    "duration": 5,
    "start_time": "2024-06-07T01:48:14.115Z"
   },
   {
    "duration": 8,
    "start_time": "2024-06-07T01:48:14.123Z"
   },
   {
    "duration": 7,
    "start_time": "2024-06-07T01:48:14.134Z"
   },
   {
    "duration": 62,
    "start_time": "2024-06-07T01:48:14.144Z"
   },
   {
    "duration": 6,
    "start_time": "2024-06-07T01:48:14.209Z"
   },
   {
    "duration": 185,
    "start_time": "2024-06-07T01:48:14.218Z"
   },
   {
    "duration": 29,
    "start_time": "2024-06-07T01:48:18.610Z"
   },
   {
    "duration": 27,
    "start_time": "2024-06-07T01:48:28.933Z"
   },
   {
    "duration": 168,
    "start_time": "2024-06-07T01:48:34.007Z"
   },
   {
    "duration": 196,
    "start_time": "2024-06-07T01:48:45.407Z"
   },
   {
    "duration": 165,
    "start_time": "2024-06-07T01:48:49.267Z"
   },
   {
    "duration": 1733,
    "start_time": "2024-06-07T01:49:08.271Z"
   },
   {
    "duration": 1676,
    "start_time": "2024-06-07T01:54:05.350Z"
   },
   {
    "duration": 23,
    "start_time": "2024-06-07T01:54:22.526Z"
   },
   {
    "duration": 7,
    "start_time": "2024-06-07T01:54:33.552Z"
   },
   {
    "duration": 6,
    "start_time": "2024-06-07T01:54:37.546Z"
   },
   {
    "duration": 6,
    "start_time": "2024-06-07T01:54:43.469Z"
   },
   {
    "duration": 1681,
    "start_time": "2024-06-07T01:58:06.087Z"
   },
   {
    "duration": 1648,
    "start_time": "2024-06-07T01:58:28.995Z"
   },
   {
    "duration": 1583,
    "start_time": "2024-06-07T01:59:29.005Z"
   },
   {
    "duration": 1603,
    "start_time": "2024-06-07T01:59:40.100Z"
   },
   {
    "duration": 1631,
    "start_time": "2024-06-07T01:59:56.336Z"
   },
   {
    "duration": 25,
    "start_time": "2024-06-07T02:00:06.021Z"
   },
   {
    "duration": 1626,
    "start_time": "2024-06-07T02:00:16.595Z"
   },
   {
    "duration": 1604,
    "start_time": "2024-06-07T02:00:22.297Z"
   },
   {
    "duration": 1686,
    "start_time": "2024-06-07T02:00:26.215Z"
   },
   {
    "duration": 1562,
    "start_time": "2024-06-07T02:00:32.566Z"
   },
   {
    "duration": 1595,
    "start_time": "2024-06-07T02:00:48.689Z"
   },
   {
    "duration": 1570,
    "start_time": "2024-06-07T02:00:52.197Z"
   },
   {
    "duration": 1646,
    "start_time": "2024-06-07T02:01:04.990Z"
   },
   {
    "duration": 1648,
    "start_time": "2024-06-07T02:01:15.992Z"
   },
   {
    "duration": 34,
    "start_time": "2024-06-07T02:03:59.846Z"
   },
   {
    "duration": 14,
    "start_time": "2024-06-07T02:09:19.252Z"
   },
   {
    "duration": 5,
    "start_time": "2024-06-07T02:09:22.991Z"
   },
   {
    "duration": 18,
    "start_time": "2024-06-07T02:09:56.904Z"
   },
   {
    "duration": 14,
    "start_time": "2024-06-07T02:10:08.724Z"
   },
   {
    "duration": 23,
    "start_time": "2024-06-07T02:10:17.359Z"
   },
   {
    "duration": 26,
    "start_time": "2024-06-07T02:10:42.347Z"
   },
   {
    "duration": 6,
    "start_time": "2024-06-07T02:10:46.781Z"
   },
   {
    "duration": 9,
    "start_time": "2024-06-07T02:10:50.619Z"
   },
   {
    "duration": 14,
    "start_time": "2024-06-07T02:11:04.520Z"
   },
   {
    "duration": 23,
    "start_time": "2024-06-07T02:11:45.300Z"
   },
   {
    "duration": 23,
    "start_time": "2024-06-07T02:11:47.374Z"
   },
   {
    "duration": 36,
    "start_time": "2024-06-07T02:13:53.003Z"
   },
   {
    "duration": 4,
    "start_time": "2024-06-07T02:14:08.572Z"
   },
   {
    "duration": 8,
    "start_time": "2024-06-07T02:14:15.527Z"
   },
   {
    "duration": 7,
    "start_time": "2024-06-07T02:14:21.841Z"
   },
   {
    "duration": 9,
    "start_time": "2024-06-07T02:14:37.513Z"
   },
   {
    "duration": 8,
    "start_time": "2024-06-07T02:14:44.997Z"
   },
   {
    "duration": 16,
    "start_time": "2024-06-07T02:16:28.701Z"
   },
   {
    "duration": 34,
    "start_time": "2024-06-07T02:16:36.188Z"
   },
   {
    "duration": 24,
    "start_time": "2024-06-07T02:17:15.008Z"
   },
   {
    "duration": 25,
    "start_time": "2024-06-07T02:17:22.330Z"
   },
   {
    "duration": 48,
    "start_time": "2024-06-07T02:17:26.889Z"
   },
   {
    "duration": 25,
    "start_time": "2024-06-07T02:17:45.021Z"
   },
   {
    "duration": 28,
    "start_time": "2024-06-07T02:17:47.843Z"
   },
   {
    "duration": 26,
    "start_time": "2024-06-07T02:18:01.131Z"
   },
   {
    "duration": 28,
    "start_time": "2024-06-07T02:18:06.359Z"
   },
   {
    "duration": 9,
    "start_time": "2024-06-07T02:23:48.166Z"
   },
   {
    "duration": 8,
    "start_time": "2024-06-07T02:24:24.695Z"
   },
   {
    "duration": 40,
    "start_time": "2024-06-07T02:24:46.486Z"
   },
   {
    "duration": 36,
    "start_time": "2024-06-07T02:24:56.924Z"
   },
   {
    "duration": 34,
    "start_time": "2024-06-07T02:25:08.843Z"
   },
   {
    "duration": 31,
    "start_time": "2024-06-07T02:25:24.403Z"
   },
   {
    "duration": 34,
    "start_time": "2024-06-07T02:31:24.958Z"
   },
   {
    "duration": 9,
    "start_time": "2024-06-07T02:34:42.805Z"
   },
   {
    "duration": 39,
    "start_time": "2024-06-07T02:35:19.724Z"
   },
   {
    "duration": 58,
    "start_time": "2024-06-07T02:35:29.266Z"
   },
   {
    "duration": 59,
    "start_time": "2024-06-07T02:35:39.886Z"
   },
   {
    "duration": 56,
    "start_time": "2024-06-07T02:35:50.280Z"
   },
   {
    "duration": 274,
    "start_time": "2024-06-07T02:36:03.534Z"
   },
   {
    "duration": 469,
    "start_time": "2024-06-07T02:36:16.289Z"
   },
   {
    "duration": 244,
    "start_time": "2024-06-07T02:36:20.337Z"
   },
   {
    "duration": 243,
    "start_time": "2024-06-07T02:37:19.204Z"
   },
   {
    "duration": 264,
    "start_time": "2024-06-07T02:37:26.128Z"
   },
   {
    "duration": 239,
    "start_time": "2024-06-07T02:37:54.557Z"
   },
   {
    "duration": 262,
    "start_time": "2024-06-07T02:38:06.460Z"
   },
   {
    "duration": 240,
    "start_time": "2024-06-07T02:38:10.049Z"
   },
   {
    "duration": 1126,
    "start_time": "2024-06-07T02:38:22.314Z"
   },
   {
    "duration": 1157,
    "start_time": "2024-06-07T02:40:48.336Z"
   },
   {
    "duration": 592,
    "start_time": "2024-06-07T02:40:57.280Z"
   },
   {
    "duration": 3144,
    "start_time": "2024-06-07T02:43:28.408Z"
   },
   {
    "duration": 44,
    "start_time": "2024-06-07T02:43:33.568Z"
   },
   {
    "duration": 13,
    "start_time": "2024-06-07T02:43:46.186Z"
   },
   {
    "duration": 9,
    "start_time": "2024-06-07T02:43:49.808Z"
   },
   {
    "duration": 12,
    "start_time": "2024-06-07T02:43:54.704Z"
   },
   {
    "duration": 11,
    "start_time": "2024-06-07T02:44:00.802Z"
   },
   {
    "duration": 10,
    "start_time": "2024-06-07T02:44:19.707Z"
   },
   {
    "duration": 9,
    "start_time": "2024-06-07T02:44:24.481Z"
   },
   {
    "duration": 6,
    "start_time": "2024-06-07T02:44:26.920Z"
   },
   {
    "duration": 8,
    "start_time": "2024-06-07T02:44:29.701Z"
   },
   {
    "duration": 7,
    "start_time": "2024-06-07T02:45:09.728Z"
   },
   {
    "duration": 8,
    "start_time": "2024-06-07T02:45:21.796Z"
   },
   {
    "duration": 9,
    "start_time": "2024-06-07T02:45:47.075Z"
   },
   {
    "duration": 12,
    "start_time": "2024-06-07T02:45:52.824Z"
   },
   {
    "duration": 16,
    "start_time": "2024-06-07T02:46:01.046Z"
   },
   {
    "duration": 30,
    "start_time": "2024-06-07T02:46:10.333Z"
   },
   {
    "duration": 209,
    "start_time": "2024-06-07T02:46:14.011Z"
   },
   {
    "duration": 188,
    "start_time": "2024-06-07T02:48:55.645Z"
   },
   {
    "duration": 211,
    "start_time": "2024-06-07T02:49:02.771Z"
   },
   {
    "duration": 205,
    "start_time": "2024-06-07T02:52:11.319Z"
   },
   {
    "duration": 146,
    "start_time": "2024-06-07T02:52:57.511Z"
   },
   {
    "duration": 262,
    "start_time": "2024-06-07T02:53:46.715Z"
   },
   {
    "duration": 2061,
    "start_time": "2024-06-07T02:54:05.549Z"
   },
   {
    "duration": 14,
    "start_time": "2024-06-07T02:56:37.769Z"
   },
   {
    "duration": 13,
    "start_time": "2024-06-07T02:57:57.944Z"
   },
   {
    "duration": 37,
    "start_time": "2024-06-07T02:58:36.220Z"
   },
   {
    "duration": 121,
    "start_time": "2024-06-07T02:59:01.112Z"
   },
   {
    "duration": 43,
    "start_time": "2024-06-07T02:59:20.192Z"
   },
   {
    "duration": 38,
    "start_time": "2024-06-07T22:44:37.436Z"
   },
   {
    "duration": 1391,
    "start_time": "2024-06-07T22:44:43.461Z"
   },
   {
    "duration": 387,
    "start_time": "2024-06-07T22:44:44.857Z"
   },
   {
    "duration": 21,
    "start_time": "2024-06-07T22:44:45.246Z"
   },
   {
    "duration": 33,
    "start_time": "2024-06-07T22:44:45.270Z"
   },
   {
    "duration": 13,
    "start_time": "2024-06-07T22:44:45.308Z"
   },
   {
    "duration": 88,
    "start_time": "2024-06-07T22:44:45.324Z"
   },
   {
    "duration": 6,
    "start_time": "2024-06-07T22:44:45.415Z"
   },
   {
    "duration": 357,
    "start_time": "2024-06-07T22:44:45.424Z"
   },
   {
    "duration": 27,
    "start_time": "2024-06-07T22:44:45.786Z"
   },
   {
    "duration": 19,
    "start_time": "2024-06-07T22:44:45.815Z"
   },
   {
    "duration": 12,
    "start_time": "2024-06-07T22:44:45.838Z"
   },
   {
    "duration": 98,
    "start_time": "2024-06-07T22:44:45.853Z"
   },
   {
    "duration": 283,
    "start_time": "2024-06-07T22:44:45.956Z"
   },
   {
    "duration": 18,
    "start_time": "2024-06-07T22:44:46.246Z"
   },
   {
    "duration": 39,
    "start_time": "2024-06-07T22:44:46.268Z"
   },
   {
    "duration": 13,
    "start_time": "2024-06-07T22:44:46.310Z"
   },
   {
    "duration": 88,
    "start_time": "2024-06-07T22:44:46.326Z"
   },
   {
    "duration": 257,
    "start_time": "2024-06-07T22:44:46.418Z"
   },
   {
    "duration": 4,
    "start_time": "2024-06-07T22:44:46.678Z"
   },
   {
    "duration": 36,
    "start_time": "2024-06-07T22:44:46.686Z"
   },
   {
    "duration": 19,
    "start_time": "2024-06-07T22:44:46.725Z"
   },
   {
    "duration": 20,
    "start_time": "2024-06-07T22:44:46.747Z"
   },
   {
    "duration": 51,
    "start_time": "2024-06-07T22:44:46.770Z"
   },
   {
    "duration": 91,
    "start_time": "2024-06-07T22:44:46.824Z"
   },
   {
    "duration": 96,
    "start_time": "2024-06-07T22:44:46.918Z"
   },
   {
    "duration": 14,
    "start_time": "2024-06-07T22:44:47.018Z"
   },
   {
    "duration": 19,
    "start_time": "2024-06-07T22:44:47.103Z"
   },
   {
    "duration": 86,
    "start_time": "2024-06-07T22:44:47.125Z"
   },
   {
    "duration": 596,
    "start_time": "2024-06-07T22:44:47.214Z"
   },
   {
    "duration": 539,
    "start_time": "2024-06-07T22:44:47.812Z"
   },
   {
    "duration": 7,
    "start_time": "2024-06-07T22:44:48.354Z"
   },
   {
    "duration": 5,
    "start_time": "2024-06-07T22:44:48.364Z"
   },
   {
    "duration": 34,
    "start_time": "2024-06-07T22:44:48.372Z"
   },
   {
    "duration": 5,
    "start_time": "2024-06-07T22:44:48.410Z"
   },
   {
    "duration": 13,
    "start_time": "2024-06-07T22:44:48.419Z"
   },
   {
    "duration": 7,
    "start_time": "2024-06-07T22:44:48.434Z"
   },
   {
    "duration": 243,
    "start_time": "2024-06-07T22:44:48.444Z"
   },
   {
    "duration": 529,
    "start_time": "2024-06-07T22:44:48.691Z"
   },
   {
    "duration": 38,
    "start_time": "2024-06-07T22:45:19.205Z"
   },
   {
    "duration": 38,
    "start_time": "2024-06-07T22:45:54.981Z"
   },
   {
    "duration": 232,
    "start_time": "2024-06-07T22:46:09.784Z"
   },
   {
    "duration": 33,
    "start_time": "2024-06-07T22:46:32.460Z"
   },
   {
    "duration": 37,
    "start_time": "2024-06-07T22:46:39.080Z"
   },
   {
    "duration": 101,
    "start_time": "2024-06-07T22:46:44.537Z"
   },
   {
    "duration": 12,
    "start_time": "2024-06-07T22:48:29.829Z"
   },
   {
    "duration": 36,
    "start_time": "2024-06-07T22:48:39.156Z"
   },
   {
    "duration": 36,
    "start_time": "2024-06-07T22:49:02.680Z"
   },
   {
    "duration": 33,
    "start_time": "2024-06-07T22:49:47.512Z"
   },
   {
    "duration": 94,
    "start_time": "2024-06-07T22:49:53.178Z"
   },
   {
    "duration": 39,
    "start_time": "2024-06-07T22:50:10.735Z"
   },
   {
    "duration": 93,
    "start_time": "2024-06-07T22:50:23.570Z"
   },
   {
    "duration": 38,
    "start_time": "2024-06-07T22:51:38.315Z"
   },
   {
    "duration": 97,
    "start_time": "2024-06-07T22:51:47.153Z"
   },
   {
    "duration": 38,
    "start_time": "2024-06-07T22:53:00.267Z"
   },
   {
    "duration": 138,
    "start_time": "2024-06-07T22:53:09.697Z"
   },
   {
    "duration": 39,
    "start_time": "2024-06-07T22:53:52.689Z"
   },
   {
    "duration": 34,
    "start_time": "2024-06-07T22:54:08.976Z"
   },
   {
    "duration": 46,
    "start_time": "2024-06-07T22:55:03.791Z"
   },
   {
    "duration": 18,
    "start_time": "2024-06-07T22:55:18.745Z"
   },
   {
    "duration": 1845,
    "start_time": "2024-06-07T22:55:54.287Z"
   },
   {
    "duration": 96,
    "start_time": "2024-06-07T22:56:09.650Z"
   },
   {
    "duration": 96,
    "start_time": "2024-06-07T22:56:23.631Z"
   },
   {
    "duration": 1842,
    "start_time": "2024-06-07T22:56:34.400Z"
   },
   {
    "duration": 2051,
    "start_time": "2024-06-07T22:56:57.140Z"
   },
   {
    "duration": 8,
    "start_time": "2024-06-07T23:00:24.227Z"
   },
   {
    "duration": 13,
    "start_time": "2024-06-07T23:00:28.593Z"
   },
   {
    "duration": 8,
    "start_time": "2024-06-07T23:01:13.206Z"
   },
   {
    "duration": 48,
    "start_time": "2024-06-07T23:01:59.330Z"
   },
   {
    "duration": 49,
    "start_time": "2024-06-07T23:02:35.444Z"
   },
   {
    "duration": 48,
    "start_time": "2024-06-07T23:02:42.482Z"
   },
   {
    "duration": 47,
    "start_time": "2024-06-07T23:02:53.514Z"
   },
   {
    "duration": 51,
    "start_time": "2024-06-07T23:03:05.571Z"
   },
   {
    "duration": 9,
    "start_time": "2024-06-07T23:03:40.593Z"
   },
   {
    "duration": 323,
    "start_time": "2024-06-07T23:04:29.322Z"
   },
   {
    "duration": 56,
    "start_time": "2024-06-07T23:04:43.928Z"
   },
   {
    "duration": 9,
    "start_time": "2024-06-07T23:05:06.927Z"
   },
   {
    "duration": 9,
    "start_time": "2024-06-07T23:05:12.293Z"
   },
   {
    "duration": 9,
    "start_time": "2024-06-07T23:05:13.942Z"
   },
   {
    "duration": 24,
    "start_time": "2024-06-07T23:05:19.923Z"
   },
   {
    "duration": 23,
    "start_time": "2024-06-07T23:05:37.829Z"
   },
   {
    "duration": 23,
    "start_time": "2024-06-07T23:05:43.789Z"
   },
   {
    "duration": 50,
    "start_time": "2024-06-07T23:05:49.761Z"
   },
   {
    "duration": 38,
    "start_time": "2024-06-07T23:06:18.664Z"
   },
   {
    "duration": 6,
    "start_time": "2024-06-07T23:06:30.856Z"
   },
   {
    "duration": 35,
    "start_time": "2024-06-07T23:06:50.692Z"
   },
   {
    "duration": 37,
    "start_time": "2024-06-07T23:07:04.278Z"
   },
   {
    "duration": 1842,
    "start_time": "2024-06-07T23:07:12.033Z"
   },
   {
    "duration": 1807,
    "start_time": "2024-06-07T23:07:19.565Z"
   },
   {
    "duration": 1866,
    "start_time": "2024-06-07T23:07:25.679Z"
   },
   {
    "duration": 1843,
    "start_time": "2024-06-07T23:15:21.418Z"
   },
   {
    "duration": 1420,
    "start_time": "2024-06-07T23:16:12.223Z"
   },
   {
    "duration": 373,
    "start_time": "2024-06-07T23:16:13.647Z"
   },
   {
    "duration": 21,
    "start_time": "2024-06-07T23:16:14.022Z"
   },
   {
    "duration": 19,
    "start_time": "2024-06-07T23:16:14.046Z"
   },
   {
    "duration": 38,
    "start_time": "2024-06-07T23:16:14.069Z"
   },
   {
    "duration": 66,
    "start_time": "2024-06-07T23:16:14.110Z"
   },
   {
    "duration": 28,
    "start_time": "2024-06-07T23:16:14.179Z"
   },
   {
    "duration": 358,
    "start_time": "2024-06-07T23:16:14.211Z"
   },
   {
    "duration": 31,
    "start_time": "2024-06-07T23:16:14.572Z"
   },
   {
    "duration": 24,
    "start_time": "2024-06-07T23:16:14.606Z"
   },
   {
    "duration": 17,
    "start_time": "2024-06-07T23:16:14.634Z"
   },
   {
    "duration": 91,
    "start_time": "2024-06-07T23:16:14.658Z"
   },
   {
    "duration": 255,
    "start_time": "2024-06-07T23:16:14.752Z"
   },
   {
    "duration": 16,
    "start_time": "2024-06-07T23:16:15.015Z"
   },
   {
    "duration": 18,
    "start_time": "2024-06-07T23:16:15.034Z"
   },
   {
    "duration": 49,
    "start_time": "2024-06-07T23:16:15.054Z"
   },
   {
    "duration": 57,
    "start_time": "2024-06-07T23:16:15.106Z"
   },
   {
    "duration": 265,
    "start_time": "2024-06-07T23:16:15.166Z"
   },
   {
    "duration": 4,
    "start_time": "2024-06-07T23:16:15.434Z"
   },
   {
    "duration": 20,
    "start_time": "2024-06-07T23:16:15.441Z"
   },
   {
    "duration": 48,
    "start_time": "2024-06-07T23:16:15.463Z"
   },
   {
    "duration": 19,
    "start_time": "2024-06-07T23:16:15.513Z"
   },
   {
    "duration": 18,
    "start_time": "2024-06-07T23:16:15.535Z"
   },
   {
    "duration": 15,
    "start_time": "2024-06-07T23:16:15.603Z"
   },
   {
    "duration": 85,
    "start_time": "2024-06-07T23:16:15.621Z"
   },
   {
    "duration": 15,
    "start_time": "2024-06-07T23:16:15.709Z"
   },
   {
    "duration": 18,
    "start_time": "2024-06-07T23:16:15.802Z"
   },
   {
    "duration": 92,
    "start_time": "2024-06-07T23:16:15.823Z"
   },
   {
    "duration": 594,
    "start_time": "2024-06-07T23:16:15.918Z"
   },
   {
    "duration": 539,
    "start_time": "2024-06-07T23:16:16.517Z"
   },
   {
    "duration": 4,
    "start_time": "2024-06-07T23:16:17.059Z"
   },
   {
    "duration": 5,
    "start_time": "2024-06-07T23:16:17.067Z"
   },
   {
    "duration": 33,
    "start_time": "2024-06-07T23:16:17.075Z"
   },
   {
    "duration": 7,
    "start_time": "2024-06-07T23:16:17.111Z"
   },
   {
    "duration": 14,
    "start_time": "2024-06-07T23:16:17.121Z"
   },
   {
    "duration": 5,
    "start_time": "2024-06-07T23:16:17.137Z"
   },
   {
    "duration": 3,
    "start_time": "2024-06-07T23:16:17.146Z"
   },
   {
    "duration": 16,
    "start_time": "2024-06-07T23:16:17.201Z"
   },
   {
    "duration": 535,
    "start_time": "2024-06-07T23:16:17.220Z"
   },
   {
    "duration": 37,
    "start_time": "2024-06-07T23:16:33.053Z"
   },
   {
    "duration": 38,
    "start_time": "2024-06-07T23:17:16.611Z"
   },
   {
    "duration": 54,
    "start_time": "2024-06-07T23:17:41.878Z"
   },
   {
    "duration": 36,
    "start_time": "2024-06-07T23:18:09.386Z"
   },
   {
    "duration": 30,
    "start_time": "2024-06-07T23:18:21.323Z"
   },
   {
    "duration": 225,
    "start_time": "2024-06-07T23:18:34.771Z"
   },
   {
    "duration": 1854,
    "start_time": "2024-06-07T23:18:44.895Z"
   },
   {
    "duration": 10,
    "start_time": "2024-06-07T23:20:11.277Z"
   },
   {
    "duration": 10,
    "start_time": "2024-06-07T23:20:16.067Z"
   },
   {
    "duration": 1448,
    "start_time": "2024-06-07T23:20:28.139Z"
   },
   {
    "duration": 453,
    "start_time": "2024-06-07T23:20:29.590Z"
   },
   {
    "duration": 26,
    "start_time": "2024-06-07T23:20:30.049Z"
   },
   {
    "duration": 36,
    "start_time": "2024-06-07T23:20:30.079Z"
   },
   {
    "duration": 15,
    "start_time": "2024-06-07T23:20:30.118Z"
   },
   {
    "duration": 97,
    "start_time": "2024-06-07T23:20:30.136Z"
   },
   {
    "duration": 6,
    "start_time": "2024-06-07T23:20:30.236Z"
   },
   {
    "duration": 366,
    "start_time": "2024-06-07T23:20:30.245Z"
   },
   {
    "duration": 27,
    "start_time": "2024-06-07T23:20:30.615Z"
   },
   {
    "duration": 62,
    "start_time": "2024-06-07T23:20:30.650Z"
   },
   {
    "duration": 49,
    "start_time": "2024-06-07T23:20:30.716Z"
   },
   {
    "duration": 75,
    "start_time": "2024-06-07T23:20:30.768Z"
   },
   {
    "duration": 307,
    "start_time": "2024-06-07T23:20:30.846Z"
   },
   {
    "duration": 23,
    "start_time": "2024-06-07T23:20:31.156Z"
   },
   {
    "duration": 31,
    "start_time": "2024-06-07T23:20:31.183Z"
   },
   {
    "duration": 14,
    "start_time": "2024-06-07T23:20:31.217Z"
   },
   {
    "duration": 92,
    "start_time": "2024-06-07T23:20:31.234Z"
   },
   {
    "duration": 253,
    "start_time": "2024-06-07T23:20:31.329Z"
   },
   {
    "duration": 3,
    "start_time": "2024-06-07T23:20:31.586Z"
   },
   {
    "duration": 18,
    "start_time": "2024-06-07T23:20:31.602Z"
   },
   {
    "duration": 19,
    "start_time": "2024-06-07T23:20:31.623Z"
   },
   {
    "duration": 20,
    "start_time": "2024-06-07T23:20:31.645Z"
   },
   {
    "duration": 54,
    "start_time": "2024-06-07T23:20:31.668Z"
   },
   {
    "duration": 85,
    "start_time": "2024-06-07T23:20:31.724Z"
   },
   {
    "duration": 95,
    "start_time": "2024-06-07T23:20:31.811Z"
   },
   {
    "duration": 20,
    "start_time": "2024-06-07T23:20:31.909Z"
   },
   {
    "duration": 87,
    "start_time": "2024-06-07T23:20:31.931Z"
   },
   {
    "duration": 17,
    "start_time": "2024-06-07T23:20:32.106Z"
   },
   {
    "duration": 657,
    "start_time": "2024-06-07T23:20:32.125Z"
   },
   {
    "duration": 519,
    "start_time": "2024-06-07T23:20:32.785Z"
   },
   {
    "duration": 3,
    "start_time": "2024-06-07T23:20:33.307Z"
   },
   {
    "duration": 4,
    "start_time": "2024-06-07T23:20:33.314Z"
   },
   {
    "duration": 8,
    "start_time": "2024-06-07T23:20:33.321Z"
   },
   {
    "duration": 6,
    "start_time": "2024-06-07T23:20:33.333Z"
   },
   {
    "duration": 61,
    "start_time": "2024-06-07T23:20:33.343Z"
   },
   {
    "duration": 6,
    "start_time": "2024-06-07T23:20:33.407Z"
   },
   {
    "duration": 4,
    "start_time": "2024-06-07T23:20:33.418Z"
   },
   {
    "duration": 18,
    "start_time": "2024-06-07T23:20:33.425Z"
   },
   {
    "duration": 9,
    "start_time": "2024-06-07T23:20:33.446Z"
   },
   {
    "duration": 9,
    "start_time": "2024-06-07T23:21:44.764Z"
   },
   {
    "duration": 514,
    "start_time": "2024-06-07T23:22:11.235Z"
   },
   {
    "duration": 56,
    "start_time": "2024-06-07T23:22:58.311Z"
   },
   {
    "duration": 35,
    "start_time": "2024-06-07T23:23:44.627Z"
   },
   {
    "duration": 8,
    "start_time": "2024-06-07T23:24:40.795Z"
   },
   {
    "duration": 204,
    "start_time": "2024-06-07T23:25:15.087Z"
   },
   {
    "duration": 9,
    "start_time": "2024-06-07T23:25:28.745Z"
   },
   {
    "duration": 1939,
    "start_time": "2024-06-07T23:26:05.091Z"
   },
   {
    "duration": 24,
    "start_time": "2024-06-07T23:27:10.459Z"
   },
   {
    "duration": 26,
    "start_time": "2024-06-07T23:28:10.767Z"
   },
   {
    "duration": 8,
    "start_time": "2024-06-07T23:30:24.117Z"
   },
   {
    "duration": 389,
    "start_time": "2024-06-07T23:30:42.439Z"
   },
   {
    "duration": 1844,
    "start_time": "2024-06-07T23:31:02.392Z"
   },
   {
    "duration": 2171,
    "start_time": "2024-06-07T23:31:23.017Z"
   },
   {
    "duration": 1861,
    "start_time": "2024-06-07T23:31:42.439Z"
   },
   {
    "duration": 239,
    "start_time": "2024-06-07T23:34:33.575Z"
   },
   {
    "duration": 1881,
    "start_time": "2024-06-07T23:34:47.072Z"
   },
   {
    "duration": 99,
    "start_time": "2024-06-07T23:34:52.685Z"
   },
   {
    "duration": 1927,
    "start_time": "2024-06-07T23:35:01.193Z"
   },
   {
    "duration": 8,
    "start_time": "2024-06-07T23:35:57.924Z"
   },
   {
    "duration": 1431,
    "start_time": "2024-06-07T23:36:55.200Z"
   },
   {
    "duration": 393,
    "start_time": "2024-06-07T23:36:56.634Z"
   },
   {
    "duration": 21,
    "start_time": "2024-06-07T23:36:57.034Z"
   },
   {
    "duration": 19,
    "start_time": "2024-06-07T23:36:57.058Z"
   },
   {
    "duration": 14,
    "start_time": "2024-06-07T23:36:57.105Z"
   },
   {
    "duration": 81,
    "start_time": "2024-06-07T23:36:57.122Z"
   },
   {
    "duration": 5,
    "start_time": "2024-06-07T23:36:57.206Z"
   },
   {
    "duration": 367,
    "start_time": "2024-06-07T23:36:57.214Z"
   },
   {
    "duration": 22,
    "start_time": "2024-06-07T23:36:57.585Z"
   },
   {
    "duration": 18,
    "start_time": "2024-06-07T23:36:57.610Z"
   },
   {
    "duration": 13,
    "start_time": "2024-06-07T23:36:57.631Z"
   },
   {
    "duration": 97,
    "start_time": "2024-06-07T23:36:57.647Z"
   },
   {
    "duration": 260,
    "start_time": "2024-06-07T23:36:57.747Z"
   },
   {
    "duration": 17,
    "start_time": "2024-06-07T23:36:58.014Z"
   },
   {
    "duration": 20,
    "start_time": "2024-06-07T23:36:58.033Z"
   },
   {
    "duration": 50,
    "start_time": "2024-06-07T23:36:58.056Z"
   },
   {
    "duration": 63,
    "start_time": "2024-06-07T23:36:58.109Z"
   },
   {
    "duration": 292,
    "start_time": "2024-06-07T23:36:58.175Z"
   },
   {
    "duration": 4,
    "start_time": "2024-06-07T23:36:58.470Z"
   },
   {
    "duration": 36,
    "start_time": "2024-06-07T23:36:58.478Z"
   },
   {
    "duration": 20,
    "start_time": "2024-06-07T23:36:58.517Z"
   },
   {
    "duration": 20,
    "start_time": "2024-06-07T23:36:58.540Z"
   },
   {
    "duration": 54,
    "start_time": "2024-06-07T23:36:58.563Z"
   },
   {
    "duration": 84,
    "start_time": "2024-06-07T23:36:58.621Z"
   },
   {
    "duration": 93,
    "start_time": "2024-06-07T23:36:58.709Z"
   },
   {
    "duration": 19,
    "start_time": "2024-06-07T23:36:58.806Z"
   },
   {
    "duration": 86,
    "start_time": "2024-06-07T23:36:58.828Z"
   },
   {
    "duration": 91,
    "start_time": "2024-06-07T23:36:58.918Z"
   },
   {
    "duration": 595,
    "start_time": "2024-06-07T23:36:59.015Z"
   },
   {
    "duration": 520,
    "start_time": "2024-06-07T23:36:59.613Z"
   },
   {
    "duration": 5,
    "start_time": "2024-06-07T23:37:00.136Z"
   },
   {
    "duration": 5,
    "start_time": "2024-06-07T23:37:00.144Z"
   },
   {
    "duration": 9,
    "start_time": "2024-06-07T23:37:00.152Z"
   },
   {
    "duration": 43,
    "start_time": "2024-06-07T23:37:00.164Z"
   },
   {
    "duration": 14,
    "start_time": "2024-06-07T23:37:00.210Z"
   },
   {
    "duration": 6,
    "start_time": "2024-06-07T23:37:00.226Z"
   },
   {
    "duration": 6,
    "start_time": "2024-06-07T23:37:00.235Z"
   },
   {
    "duration": 8,
    "start_time": "2024-06-07T23:37:05.553Z"
   },
   {
    "duration": 656,
    "start_time": "2024-06-07T23:37:10.938Z"
   },
   {
    "duration": 9,
    "start_time": "2024-06-07T23:37:56.524Z"
   },
   {
    "duration": 212,
    "start_time": "2024-06-07T23:37:58.491Z"
   },
   {
    "duration": 8,
    "start_time": "2024-06-07T23:38:43.075Z"
   },
   {
    "duration": 650,
    "start_time": "2024-06-07T23:38:44.964Z"
   },
   {
    "duration": 711,
    "start_time": "2024-06-07T23:38:50.191Z"
   },
   {
    "duration": 654,
    "start_time": "2024-06-07T23:38:55.370Z"
   },
   {
    "duration": 8,
    "start_time": "2024-06-07T23:39:10.887Z"
   },
   {
    "duration": 11,
    "start_time": "2024-06-07T23:40:54.505Z"
   },
   {
    "duration": 647,
    "start_time": "2024-06-07T23:40:56.277Z"
   },
   {
    "duration": 680,
    "start_time": "2024-06-07T23:41:20.033Z"
   },
   {
    "duration": 742,
    "start_time": "2024-06-07T23:41:24.160Z"
   },
   {
    "duration": 8,
    "start_time": "2024-06-07T23:41:41.280Z"
   },
   {
    "duration": 636,
    "start_time": "2024-06-07T23:41:43.085Z"
   },
   {
    "duration": 36740,
    "start_time": "2024-06-07T23:41:51.172Z"
   },
   {
    "duration": 14409,
    "start_time": "2024-06-07T23:42:32.993Z"
   },
   {
    "duration": 7499,
    "start_time": "2024-06-07T23:42:47.406Z"
   },
   {
    "duration": 11,
    "start_time": "2024-06-07T23:43:39.457Z"
   },
   {
    "duration": 6760,
    "start_time": "2024-06-07T23:43:43.965Z"
   },
   {
    "duration": 7283,
    "start_time": "2024-06-07T23:43:55.632Z"
   },
   {
    "duration": 8,
    "start_time": "2024-06-07T23:45:40.420Z"
   },
   {
    "duration": 1015,
    "start_time": "2024-06-07T23:45:44.496Z"
   },
   {
    "duration": 7798,
    "start_time": "2024-06-07T23:46:07.813Z"
   },
   {
    "duration": 11,
    "start_time": "2024-06-07T23:46:56.637Z"
   },
   {
    "duration": 7332,
    "start_time": "2024-06-07T23:46:58.181Z"
   },
   {
    "duration": 75839,
    "start_time": "2024-06-07T23:47:16.579Z"
   },
   {
    "duration": 598,
    "start_time": "2024-06-07T23:49:03.611Z"
   },
   {
    "duration": 846,
    "start_time": "2024-06-07T23:49:10.356Z"
   },
   {
    "duration": 1458,
    "start_time": "2024-06-07T23:49:25.838Z"
   },
   {
    "duration": 378,
    "start_time": "2024-06-07T23:49:27.299Z"
   },
   {
    "duration": 30,
    "start_time": "2024-06-07T23:49:27.679Z"
   },
   {
    "duration": 21,
    "start_time": "2024-06-07T23:49:27.712Z"
   },
   {
    "duration": 13,
    "start_time": "2024-06-07T23:49:27.737Z"
   },
   {
    "duration": 97,
    "start_time": "2024-06-07T23:49:27.753Z"
   },
   {
    "duration": 6,
    "start_time": "2024-06-07T23:49:27.853Z"
   },
   {
    "duration": 371,
    "start_time": "2024-06-07T23:49:27.863Z"
   },
   {
    "duration": 18,
    "start_time": "2024-06-07T23:49:28.237Z"
   },
   {
    "duration": 44,
    "start_time": "2024-06-07T23:49:28.258Z"
   },
   {
    "duration": 15,
    "start_time": "2024-06-07T23:49:28.305Z"
   },
   {
    "duration": 81,
    "start_time": "2024-06-07T23:49:28.322Z"
   },
   {
    "duration": 253,
    "start_time": "2024-06-07T23:49:28.406Z"
   },
   {
    "duration": 35,
    "start_time": "2024-06-07T23:49:28.666Z"
   },
   {
    "duration": 18,
    "start_time": "2024-06-07T23:49:28.704Z"
   },
   {
    "duration": 13,
    "start_time": "2024-06-07T23:49:28.726Z"
   },
   {
    "duration": 97,
    "start_time": "2024-06-07T23:49:28.742Z"
   },
   {
    "duration": 263,
    "start_time": "2024-06-07T23:49:28.841Z"
   },
   {
    "duration": 4,
    "start_time": "2024-06-07T23:49:29.107Z"
   },
   {
    "duration": 18,
    "start_time": "2024-06-07T23:49:29.114Z"
   },
   {
    "duration": 20,
    "start_time": "2024-06-07T23:49:29.135Z"
   },
   {
    "duration": 55,
    "start_time": "2024-06-07T23:49:29.158Z"
   },
   {
    "duration": 30,
    "start_time": "2024-06-07T23:49:29.216Z"
   },
   {
    "duration": 16,
    "start_time": "2024-06-07T23:49:29.306Z"
   },
   {
    "duration": 90,
    "start_time": "2024-06-07T23:49:29.325Z"
   },
   {
    "duration": 17,
    "start_time": "2024-06-07T23:49:29.418Z"
   },
   {
    "duration": 19,
    "start_time": "2024-06-07T23:49:29.502Z"
   },
   {
    "duration": 94,
    "start_time": "2024-06-07T23:49:29.526Z"
   },
   {
    "duration": 530,
    "start_time": "2024-06-07T23:49:29.702Z"
   },
   {
    "duration": 503,
    "start_time": "2024-06-07T23:49:30.235Z"
   },
   {
    "duration": 4,
    "start_time": "2024-06-07T23:49:30.741Z"
   },
   {
    "duration": 5,
    "start_time": "2024-06-07T23:49:30.748Z"
   },
   {
    "duration": 8,
    "start_time": "2024-06-07T23:49:30.756Z"
   },
   {
    "duration": 38,
    "start_time": "2024-06-07T23:49:30.767Z"
   },
   {
    "duration": 15,
    "start_time": "2024-06-07T23:49:30.809Z"
   },
   {
    "duration": 5,
    "start_time": "2024-06-07T23:49:30.827Z"
   },
   {
    "duration": 10,
    "start_time": "2024-06-07T23:49:30.836Z"
   },
   {
    "duration": 760,
    "start_time": "2024-06-07T23:49:30.850Z"
   },
   {
    "duration": 7492,
    "start_time": "2024-06-07T23:49:31.613Z"
   },
   {
    "duration": 7319,
    "start_time": "2024-06-07T23:49:39.111Z"
   },
   {
    "duration": 73047,
    "start_time": "2024-06-07T23:50:44.158Z"
   },
   {
    "duration": 5187,
    "start_time": "2024-06-08T06:03:01.132Z"
   },
   {
    "duration": 484,
    "start_time": "2024-06-08T06:03:06.323Z"
   },
   {
    "duration": 21,
    "start_time": "2024-06-08T06:03:06.810Z"
   },
   {
    "duration": 19,
    "start_time": "2024-06-08T06:03:06.835Z"
   },
   {
    "duration": 12,
    "start_time": "2024-06-08T06:03:06.857Z"
   },
   {
    "duration": 100,
    "start_time": "2024-06-08T06:03:06.872Z"
   },
   {
    "duration": 6,
    "start_time": "2024-06-08T06:03:06.975Z"
   },
   {
    "duration": 297,
    "start_time": "2024-06-08T06:03:06.984Z"
   },
   {
    "duration": 18,
    "start_time": "2024-06-08T06:03:07.285Z"
   },
   {
    "duration": 20,
    "start_time": "2024-06-08T06:03:07.327Z"
   },
   {
    "duration": 13,
    "start_time": "2024-06-08T06:03:07.350Z"
   },
   {
    "duration": 94,
    "start_time": "2024-06-08T06:03:07.367Z"
   },
   {
    "duration": 266,
    "start_time": "2024-06-08T06:03:07.464Z"
   },
   {
    "duration": 18,
    "start_time": "2024-06-08T06:03:07.733Z"
   },
   {
    "duration": 19,
    "start_time": "2024-06-08T06:03:07.754Z"
   },
   {
    "duration": 46,
    "start_time": "2024-06-08T06:03:07.778Z"
   },
   {
    "duration": 58,
    "start_time": "2024-06-08T06:03:07.828Z"
   },
   {
    "duration": 280,
    "start_time": "2024-06-08T06:03:07.889Z"
   },
   {
    "duration": 4,
    "start_time": "2024-06-08T06:03:08.173Z"
   },
   {
    "duration": 45,
    "start_time": "2024-06-08T06:03:08.181Z"
   },
   {
    "duration": 22,
    "start_time": "2024-06-08T06:03:08.229Z"
   },
   {
    "duration": 21,
    "start_time": "2024-06-08T06:03:08.254Z"
   },
   {
    "duration": 52,
    "start_time": "2024-06-08T06:03:08.278Z"
   },
   {
    "duration": 16,
    "start_time": "2024-06-08T06:03:08.333Z"
   },
   {
    "duration": 19,
    "start_time": "2024-06-08T06:03:08.424Z"
   },
   {
    "duration": 89,
    "start_time": "2024-06-08T06:03:08.446Z"
   },
   {
    "duration": 91,
    "start_time": "2024-06-08T06:03:08.538Z"
   },
   {
    "duration": 88,
    "start_time": "2024-06-08T06:03:08.636Z"
   },
   {
    "duration": 695,
    "start_time": "2024-06-08T06:03:08.727Z"
   },
   {
    "duration": 554,
    "start_time": "2024-06-08T06:03:09.425Z"
   },
   {
    "duration": 5,
    "start_time": "2024-06-08T06:03:09.982Z"
   },
   {
    "duration": 33,
    "start_time": "2024-06-08T06:03:09.990Z"
   },
   {
    "duration": 10,
    "start_time": "2024-06-08T06:03:10.028Z"
   },
   {
    "duration": 7,
    "start_time": "2024-06-08T06:03:10.043Z"
   },
   {
    "duration": 504,
    "start_time": "2024-06-08T06:03:10.055Z"
   },
   {
    "duration": 10,
    "start_time": "2024-06-08T06:03:22.939Z"
   },
   {
    "duration": 330,
    "start_time": "2024-06-08T06:03:43.671Z"
   },
   {
    "duration": 1502,
    "start_time": "2024-06-08T06:03:50.278Z"
   },
   {
    "duration": 499,
    "start_time": "2024-06-08T06:03:51.784Z"
   },
   {
    "duration": 23,
    "start_time": "2024-06-08T06:03:52.286Z"
   },
   {
    "duration": 18,
    "start_time": "2024-06-08T06:03:52.325Z"
   },
   {
    "duration": 14,
    "start_time": "2024-06-08T06:03:52.346Z"
   },
   {
    "duration": 92,
    "start_time": "2024-06-08T06:03:52.363Z"
   },
   {
    "duration": 5,
    "start_time": "2024-06-08T06:03:52.458Z"
   },
   {
    "duration": 287,
    "start_time": "2024-06-08T06:03:52.467Z"
   },
   {
    "duration": 18,
    "start_time": "2024-06-08T06:03:52.758Z"
   },
   {
    "duration": 47,
    "start_time": "2024-06-08T06:03:52.783Z"
   },
   {
    "duration": 13,
    "start_time": "2024-06-08T06:03:52.833Z"
   },
   {
    "duration": 77,
    "start_time": "2024-06-08T06:03:52.849Z"
   },
   {
    "duration": 294,
    "start_time": "2024-06-08T06:03:52.929Z"
   },
   {
    "duration": 19,
    "start_time": "2024-06-08T06:03:53.226Z"
   },
   {
    "duration": 21,
    "start_time": "2024-06-08T06:03:53.249Z"
   },
   {
    "duration": 52,
    "start_time": "2024-06-08T06:03:53.273Z"
   },
   {
    "duration": 71,
    "start_time": "2024-06-08T06:03:53.329Z"
   },
   {
    "duration": 272,
    "start_time": "2024-06-08T06:03:53.422Z"
   },
   {
    "duration": 5,
    "start_time": "2024-06-08T06:03:53.697Z"
   },
   {
    "duration": 22,
    "start_time": "2024-06-08T06:03:53.722Z"
   },
   {
    "duration": 22,
    "start_time": "2024-06-08T06:03:53.749Z"
   },
   {
    "duration": 56,
    "start_time": "2024-06-08T06:03:53.774Z"
   },
   {
    "duration": 25,
    "start_time": "2024-06-08T06:03:53.833Z"
   },
   {
    "duration": 73,
    "start_time": "2024-06-08T06:03:53.861Z"
   },
   {
    "duration": 97,
    "start_time": "2024-06-08T06:03:53.938Z"
   },
   {
    "duration": 86,
    "start_time": "2024-06-08T06:03:54.040Z"
   },
   {
    "duration": 95,
    "start_time": "2024-06-08T06:03:54.130Z"
   },
   {
    "duration": 19,
    "start_time": "2024-06-08T06:03:54.234Z"
   },
   {
    "duration": 534,
    "start_time": "2024-06-08T06:03:54.325Z"
   },
   {
    "duration": 612,
    "start_time": "2024-06-08T06:03:54.863Z"
   },
   {
    "duration": 4,
    "start_time": "2024-06-08T06:03:55.479Z"
   },
   {
    "duration": 5,
    "start_time": "2024-06-08T06:03:55.487Z"
   },
   {
    "duration": 32,
    "start_time": "2024-06-08T06:03:55.499Z"
   },
   {
    "duration": 7,
    "start_time": "2024-06-08T06:03:55.534Z"
   },
   {
    "duration": 178,
    "start_time": "2024-06-08T06:03:55.544Z"
   },
   {
    "duration": 0,
    "start_time": "2024-06-08T06:03:55.725Z"
   },
   {
    "duration": 0,
    "start_time": "2024-06-08T06:03:55.728Z"
   },
   {
    "duration": 25,
    "start_time": "2024-06-08T06:03:58.709Z"
   },
   {
    "duration": 14,
    "start_time": "2024-06-08T06:04:08.285Z"
   },
   {
    "duration": 5,
    "start_time": "2024-06-08T06:04:10.869Z"
   },
   {
    "duration": 9,
    "start_time": "2024-06-08T06:04:14.580Z"
   },
   {
    "duration": 333,
    "start_time": "2024-06-08T06:04:32.483Z"
   },
   {
    "duration": 1584,
    "start_time": "2024-06-08T06:04:39.121Z"
   },
   {
    "duration": 479,
    "start_time": "2024-06-08T06:04:40.709Z"
   },
   {
    "duration": 31,
    "start_time": "2024-06-08T06:04:41.191Z"
   },
   {
    "duration": 19,
    "start_time": "2024-06-08T06:04:41.226Z"
   },
   {
    "duration": 12,
    "start_time": "2024-06-08T06:04:41.250Z"
   },
   {
    "duration": 92,
    "start_time": "2024-06-08T06:04:41.265Z"
   },
   {
    "duration": 5,
    "start_time": "2024-06-08T06:04:41.360Z"
   },
   {
    "duration": 299,
    "start_time": "2024-06-08T06:04:41.368Z"
   },
   {
    "duration": 18,
    "start_time": "2024-06-08T06:04:41.670Z"
   },
   {
    "duration": 38,
    "start_time": "2024-06-08T06:04:41.691Z"
   },
   {
    "duration": 16,
    "start_time": "2024-06-08T06:04:41.733Z"
   },
   {
    "duration": 87,
    "start_time": "2024-06-08T06:04:41.751Z"
   },
   {
    "duration": 258,
    "start_time": "2024-06-08T06:04:41.841Z"
   },
   {
    "duration": 30,
    "start_time": "2024-06-08T06:04:42.106Z"
   },
   {
    "duration": 18,
    "start_time": "2024-06-08T06:04:42.139Z"
   },
   {
    "duration": 14,
    "start_time": "2024-06-08T06:04:42.161Z"
   },
   {
    "duration": 100,
    "start_time": "2024-06-08T06:04:42.177Z"
   },
   {
    "duration": 271,
    "start_time": "2024-06-08T06:04:42.280Z"
   },
   {
    "duration": 5,
    "start_time": "2024-06-08T06:04:42.554Z"
   },
   {
    "duration": 19,
    "start_time": "2024-06-08T06:04:42.562Z"
   },
   {
    "duration": 48,
    "start_time": "2024-06-08T06:04:42.584Z"
   },
   {
    "duration": 19,
    "start_time": "2024-06-08T06:04:42.635Z"
   },
   {
    "duration": 65,
    "start_time": "2024-06-08T06:04:42.657Z"
   },
   {
    "duration": 100,
    "start_time": "2024-06-08T06:04:42.724Z"
   },
   {
    "duration": 18,
    "start_time": "2024-06-08T06:04:42.827Z"
   },
   {
    "duration": 76,
    "start_time": "2024-06-08T06:04:42.848Z"
   },
   {
    "duration": 18,
    "start_time": "2024-06-08T06:04:42.927Z"
   },
   {
    "duration": 14,
    "start_time": "2024-06-08T06:04:43.024Z"
   },
   {
    "duration": 593,
    "start_time": "2024-06-08T06:04:43.041Z"
   },
   {
    "duration": 613,
    "start_time": "2024-06-08T06:04:43.637Z"
   },
   {
    "duration": 5,
    "start_time": "2024-06-08T06:04:44.253Z"
   },
   {
    "duration": 6,
    "start_time": "2024-06-08T06:04:44.261Z"
   },
   {
    "duration": 8,
    "start_time": "2024-06-08T06:04:44.269Z"
   },
   {
    "duration": 42,
    "start_time": "2024-06-08T06:04:44.281Z"
   },
   {
    "duration": 14,
    "start_time": "2024-06-08T06:04:44.327Z"
   },
   {
    "duration": 5,
    "start_time": "2024-06-08T06:04:44.344Z"
   },
   {
    "duration": 9,
    "start_time": "2024-06-08T06:04:44.353Z"
   },
   {
    "duration": 683,
    "start_time": "2024-06-08T06:05:06.971Z"
   },
   {
    "duration": 8,
    "start_time": "2024-06-08T06:05:10.310Z"
   },
   {
    "duration": 447,
    "start_time": "2024-06-08T06:05:12.622Z"
   },
   {
    "duration": 412,
    "start_time": "2024-06-08T06:05:45.224Z"
   },
   {
    "duration": 394,
    "start_time": "2024-06-08T06:06:02.433Z"
   },
   {
    "duration": 448,
    "start_time": "2024-06-08T06:06:20.537Z"
   },
   {
    "duration": 355,
    "start_time": "2024-06-08T18:22:19.804Z"
   },
   {
    "duration": 35,
    "start_time": "2024-06-08T18:22:24.370Z"
   },
   {
    "duration": 6154,
    "start_time": "2024-06-08T18:22:29.432Z"
   },
   {
    "duration": 658,
    "start_time": "2024-06-08T18:22:35.591Z"
   },
   {
    "duration": 25,
    "start_time": "2024-06-08T18:22:36.254Z"
   },
   {
    "duration": 37,
    "start_time": "2024-06-08T18:22:36.286Z"
   },
   {
    "duration": 14,
    "start_time": "2024-06-08T18:22:36.328Z"
   },
   {
    "duration": 107,
    "start_time": "2024-06-08T18:22:36.345Z"
   },
   {
    "duration": 7,
    "start_time": "2024-06-08T18:22:36.455Z"
   },
   {
    "duration": 322,
    "start_time": "2024-06-08T18:22:36.465Z"
   },
   {
    "duration": 34,
    "start_time": "2024-06-08T18:22:36.790Z"
   },
   {
    "duration": 21,
    "start_time": "2024-06-08T18:22:36.828Z"
   },
   {
    "duration": 16,
    "start_time": "2024-06-08T18:22:36.853Z"
   },
   {
    "duration": 80,
    "start_time": "2024-06-08T18:22:36.903Z"
   },
   {
    "duration": 411,
    "start_time": "2024-06-08T18:22:37.006Z"
   },
   {
    "duration": 20,
    "start_time": "2024-06-08T18:22:37.424Z"
   },
   {
    "duration": 22,
    "start_time": "2024-06-08T18:22:37.450Z"
   },
   {
    "duration": 15,
    "start_time": "2024-06-08T18:22:37.503Z"
   },
   {
    "duration": 95,
    "start_time": "2024-06-08T18:22:37.523Z"
   },
   {
    "duration": 281,
    "start_time": "2024-06-08T18:22:37.623Z"
   },
   {
    "duration": 5,
    "start_time": "2024-06-08T18:22:37.908Z"
   },
   {
    "duration": 24,
    "start_time": "2024-06-08T18:22:37.917Z"
   },
   {
    "duration": 57,
    "start_time": "2024-06-08T18:22:37.944Z"
   },
   {
    "duration": 23,
    "start_time": "2024-06-08T18:22:38.005Z"
   },
   {
    "duration": 70,
    "start_time": "2024-06-08T18:22:38.031Z"
   },
   {
    "duration": 28,
    "start_time": "2024-06-08T18:22:38.104Z"
   },
   {
    "duration": 33,
    "start_time": "2024-06-08T18:22:38.207Z"
   },
   {
    "duration": 76,
    "start_time": "2024-06-08T18:22:38.245Z"
   },
   {
    "duration": 94,
    "start_time": "2024-06-08T18:22:38.326Z"
   },
   {
    "duration": 20,
    "start_time": "2024-06-08T18:22:38.422Z"
   },
   {
    "duration": 604,
    "start_time": "2024-06-08T18:22:38.506Z"
   },
   {
    "duration": 577,
    "start_time": "2024-06-08T18:22:39.114Z"
   },
   {
    "duration": 5,
    "start_time": "2024-06-08T18:22:39.698Z"
   },
   {
    "duration": 10,
    "start_time": "2024-06-08T18:22:39.707Z"
   },
   {
    "duration": 9,
    "start_time": "2024-06-08T18:22:39.722Z"
   },
   {
    "duration": 7,
    "start_time": "2024-06-08T18:22:39.735Z"
   },
   {
    "duration": 58,
    "start_time": "2024-06-08T18:22:39.745Z"
   },
   {
    "duration": 6,
    "start_time": "2024-06-08T18:22:39.807Z"
   },
   {
    "duration": 11,
    "start_time": "2024-06-08T18:24:20.221Z"
   },
   {
    "duration": 17,
    "start_time": "2024-06-08T18:28:56.771Z"
   },
   {
    "duration": 11,
    "start_time": "2024-06-08T18:32:05.351Z"
   },
   {
    "duration": 522,
    "start_time": "2024-06-08T18:32:31.705Z"
   },
   {
    "duration": 387,
    "start_time": "2024-06-08T18:33:19.941Z"
   },
   {
    "duration": 11,
    "start_time": "2024-06-08T18:33:45.353Z"
   },
   {
    "duration": 426,
    "start_time": "2024-06-08T18:33:47.211Z"
   },
   {
    "duration": 9,
    "start_time": "2024-06-08T18:35:57.735Z"
   },
   {
    "duration": 11,
    "start_time": "2024-06-08T18:37:33.409Z"
   },
   {
    "duration": 389,
    "start_time": "2024-06-08T18:37:39.871Z"
   },
   {
    "duration": 20,
    "start_time": "2024-06-08T18:38:31.339Z"
   },
   {
    "duration": 52,
    "start_time": "2024-06-08T18:38:33.316Z"
   },
   {
    "duration": 47,
    "start_time": "2024-06-08T18:39:49.023Z"
   },
   {
    "duration": 44,
    "start_time": "2024-06-08T18:39:58.615Z"
   },
   {
    "duration": 381,
    "start_time": "2024-06-08T18:45:41.295Z"
   },
   {
    "duration": 378,
    "start_time": "2024-06-08T18:46:06.886Z"
   },
   {
    "duration": 383,
    "start_time": "2024-06-08T18:46:22.836Z"
   },
   {
    "duration": 9,
    "start_time": "2024-06-08T18:46:25.216Z"
   },
   {
    "duration": 370,
    "start_time": "2024-06-08T18:46:27.179Z"
   },
   {
    "duration": 10,
    "start_time": "2024-06-08T18:46:45.294Z"
   },
   {
    "duration": 530,
    "start_time": "2024-06-08T18:46:46.875Z"
   },
   {
    "duration": 9,
    "start_time": "2024-06-08T18:46:56.611Z"
   },
   {
    "duration": 497,
    "start_time": "2024-06-08T18:46:59.363Z"
   },
   {
    "duration": 11,
    "start_time": "2024-06-08T18:48:14.194Z"
   },
   {
    "duration": 10,
    "start_time": "2024-06-08T18:48:23.581Z"
   },
   {
    "duration": 17,
    "start_time": "2024-06-08T18:48:26.066Z"
   },
   {
    "duration": 23,
    "start_time": "2024-06-08T18:48:27.914Z"
   },
   {
    "duration": 39,
    "start_time": "2024-06-08T18:48:51.804Z"
   },
   {
    "duration": 251,
    "start_time": "2024-06-08T18:49:00.150Z"
   },
   {
    "duration": 2383,
    "start_time": "2024-06-08T18:49:03.225Z"
   },
   {
    "duration": 9,
    "start_time": "2024-06-08T18:49:50.630Z"
   },
   {
    "duration": 69,
    "start_time": "2024-06-08T18:49:54.439Z"
   },
   {
    "duration": 14,
    "start_time": "2024-06-08T18:50:00.268Z"
   },
   {
    "duration": 170,
    "start_time": "2024-06-08T18:50:02.713Z"
   },
   {
    "duration": 12,
    "start_time": "2024-06-08T18:50:57.437Z"
   },
   {
    "duration": 36,
    "start_time": "2024-06-08T18:50:59.915Z"
   },
   {
    "duration": 20,
    "start_time": "2024-06-08T18:51:37.620Z"
   },
   {
    "duration": 78,
    "start_time": "2024-06-08T18:51:39.799Z"
   },
   {
    "duration": 12,
    "start_time": "2024-06-08T18:51:52.600Z"
   },
   {
    "duration": 35,
    "start_time": "2024-06-08T18:51:54.203Z"
   },
   {
    "duration": 12,
    "start_time": "2024-06-08T18:52:15.639Z"
   },
   {
    "duration": 54,
    "start_time": "2024-06-08T18:52:17.803Z"
   },
   {
    "duration": 12,
    "start_time": "2024-06-08T18:54:43.091Z"
   },
   {
    "duration": 9,
    "start_time": "2024-06-08T18:54:58.470Z"
   },
   {
    "duration": 68,
    "start_time": "2024-06-08T18:55:06.785Z"
   },
   {
    "duration": 12,
    "start_time": "2024-06-08T18:55:40.272Z"
   },
   {
    "duration": 34,
    "start_time": "2024-06-08T18:55:42.913Z"
   },
   {
    "duration": 10,
    "start_time": "2024-06-08T18:55:48.876Z"
   },
   {
    "duration": 41,
    "start_time": "2024-06-08T18:55:50.968Z"
   },
   {
    "duration": 280,
    "start_time": "2024-06-08T18:55:54.300Z"
   },
   {
    "duration": 1374,
    "start_time": "2024-06-08T18:55:59.756Z"
   },
   {
    "duration": 1895,
    "start_time": "2024-06-08T18:57:52.977Z"
   },
   {
    "duration": 8,
    "start_time": "2024-06-08T18:58:18.434Z"
   },
   {
    "duration": 7,
    "start_time": "2024-06-08T18:58:20.124Z"
   },
   {
    "duration": 1940,
    "start_time": "2024-06-08T18:58:22.138Z"
   },
   {
    "duration": 1941,
    "start_time": "2024-06-08T18:58:27.329Z"
   },
   {
    "duration": 1947,
    "start_time": "2024-06-08T18:58:31.258Z"
   },
   {
    "duration": 11,
    "start_time": "2024-06-08T19:00:33.083Z"
   },
   {
    "duration": 11,
    "start_time": "2024-06-08T19:00:41.073Z"
   },
   {
    "duration": 75,
    "start_time": "2024-06-08T19:00:42.870Z"
   },
   {
    "duration": 11,
    "start_time": "2024-06-08T19:00:49.235Z"
   },
   {
    "duration": 1892,
    "start_time": "2024-06-08T19:00:52.910Z"
   },
   {
    "duration": 1938,
    "start_time": "2024-06-08T19:00:58.263Z"
   },
   {
    "duration": 1880,
    "start_time": "2024-06-08T19:01:02.652Z"
   },
   {
    "duration": 9,
    "start_time": "2024-06-08T19:02:30.366Z"
   },
   {
    "duration": 1880,
    "start_time": "2024-06-08T19:02:32.215Z"
   },
   {
    "duration": 1987,
    "start_time": "2024-06-08T19:02:35.423Z"
   },
   {
    "duration": 1929,
    "start_time": "2024-06-08T19:02:39.079Z"
   },
   {
    "duration": 9,
    "start_time": "2024-06-08T19:03:04.916Z"
   },
   {
    "duration": 88,
    "start_time": "2024-06-08T19:03:08.136Z"
   },
   {
    "duration": 11,
    "start_time": "2024-06-08T19:03:18.217Z"
   },
   {
    "duration": 1912,
    "start_time": "2024-06-08T19:03:20.284Z"
   },
   {
    "duration": 1907,
    "start_time": "2024-06-08T19:03:23.824Z"
   },
   {
    "duration": 1950,
    "start_time": "2024-06-08T19:03:27.248Z"
   },
   {
    "duration": 2411,
    "start_time": "2024-06-08T19:04:33.906Z"
   },
   {
    "duration": 27,
    "start_time": "2024-06-08T19:04:38.162Z"
   },
   {
    "duration": 23,
    "start_time": "2024-06-08T19:04:43.629Z"
   },
   {
    "duration": 2344,
    "start_time": "2024-06-08T19:04:50.236Z"
   },
   {
    "duration": 2471,
    "start_time": "2024-06-08T19:05:54.578Z"
   },
   {
    "duration": 2439,
    "start_time": "2024-06-08T19:06:14.550Z"
   },
   {
    "duration": 2434,
    "start_time": "2024-06-08T19:06:27.531Z"
   }
  ],
  "kernelspec": {
   "display_name": "Python 3 (ipykernel)",
   "language": "python",
   "name": "python3"
  },
  "language_info": {
   "codemirror_mode": {
    "name": "ipython",
    "version": 3
   },
   "file_extension": ".py",
   "mimetype": "text/x-python",
   "name": "python",
   "nbconvert_exporter": "python",
   "pygments_lexer": "ipython3",
   "version": "3.9.19"
  },
  "toc": {
   "base_numbering": 1,
   "nav_menu": {},
   "number_sections": true,
   "sideBar": true,
   "skip_h1_title": true,
   "title_cell": "Table of Contents",
   "title_sidebar": "Contents",
   "toc_cell": false,
   "toc_position": {},
   "toc_section_display": true,
   "toc_window_display": false
  }
 },
 "nbformat": 4,
 "nbformat_minor": 2
}
